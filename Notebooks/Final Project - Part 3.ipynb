{
 "cells": [
  {
   "cell_type": "markdown",
   "metadata": {},
   "source": [
    "### Dead Cat Bounce "
   ]
  },
  {
   "cell_type": "markdown",
   "metadata": {},
   "source": [
    "A dead cat bounce is a small, short lived recovery in the price of a declining security after a significant downward trend. For example, the market (or an individual stock) has been falling over the last ten weeks but there is a broad market rally in week 11. The rally is considered a dead cat bounce if it's short-lived and the market continues to fall again in week 12. Most of the time, waffling causes a dead cat bounce. During a long downward slide, some investors may think that the market or a particular security has bottomed out. They begin buying instead of selling, or some may be closing out their short positions and pocketing gains. These factors create a little buying momentum, albeit brief. After this buying momentum is over, the stock falls again. Dead cat bounce candidates can also be identified over shorter time frames, e.g a stock that drops 5% one day and rises 3% the next"
   ]
  },
  {
   "cell_type": "markdown",
   "metadata": {},
   "source": [
    "Using the code in dead_cat.py and yahoo_finance.py I obtained data from the quandl api and the yahoo finance api. After calculating the metrics I needed, I stored the data in a consolidated CSV file. "
   ]
  },
  {
   "cell_type": "code",
   "execution_count": 96,
   "metadata": {
    "collapsed": true
   },
   "outputs": [],
   "source": [
    "import re\n",
    "import pandas as pd\n",
    "import numpy as np \n",
    "import matplotlib.pyplot as plt \n",
    "from matplotlib import style\n",
    "import requests\n",
    "import json \n",
    "import random\n",
    "import csv\n",
    "%matplotlib inline\n",
    "style.use('ggplot')"
   ]
  },
  {
   "cell_type": "code",
   "execution_count": 129,
   "metadata": {
    "collapsed": false
   },
   "outputs": [
    {
     "name": "stdout",
     "output_type": "stream",
     "text": [
      "Ticker              object\n",
      "Chg_from_Hi        float64\n",
      "Chg_from_Lo        float64\n",
      "Chg_from_50davg    float64\n",
      "Short_Ratio        float64\n",
      "Is_Dead_Cat         object\n",
      "dtype: object\n"
     ]
    }
   ],
   "source": [
    "# Drop extra index column and any 'inf' values\n",
    "\n",
    "project_df = pd.read_csv('CONSOLIDATED_DCB_DATA.csv')\n",
    "project_df = project_df.drop(project_df.columns[[0]],axis=1)\n",
    "project_df = project_df[np.isfinite(project_df['Chg_from_50davg'])]\n",
    "project_df['Is_Dead_Cat'] = project_df['Is_Dead_Cat'].astype('str')\n",
    "project_df.head()\n",
    "print project_df.dtypes"
   ]
  },
  {
   "cell_type": "code",
   "execution_count": 110,
   "metadata": {
    "collapsed": false
   },
   "outputs": [
    {
     "data": {
      "text/html": [
       "<div>\n",
       "<table border=\"1\" class=\"dataframe\">\n",
       "  <thead>\n",
       "    <tr style=\"text-align: right;\">\n",
       "      <th></th>\n",
       "      <th>Ticker</th>\n",
       "      <th>Chg_from_Hi</th>\n",
       "      <th>Chg_from_Lo</th>\n",
       "      <th>Chg_from_50davg</th>\n",
       "      <th>Short_Ratio</th>\n",
       "      <th>Is_Dead_Cat</th>\n",
       "    </tr>\n",
       "  </thead>\n",
       "  <tbody>\n",
       "    <tr>\n",
       "      <th>430</th>\n",
       "      <td>BOKF</td>\n",
       "      <td>-13.23</td>\n",
       "      <td>47.81</td>\n",
       "      <td>4.69</td>\n",
       "      <td>13.55</td>\n",
       "      <td>0</td>\n",
       "    </tr>\n",
       "    <tr>\n",
       "      <th>431</th>\n",
       "      <td>AKP</td>\n",
       "      <td>-0.89</td>\n",
       "      <td>18.31</td>\n",
       "      <td>0.91</td>\n",
       "      <td>0.00</td>\n",
       "      <td>0</td>\n",
       "    </tr>\n",
       "    <tr>\n",
       "      <th>432</th>\n",
       "      <td>CTS</td>\n",
       "      <td>-5.63</td>\n",
       "      <td>48.48</td>\n",
       "      <td>4.19</td>\n",
       "      <td>8.40</td>\n",
       "      <td>0</td>\n",
       "    </tr>\n",
       "    <tr>\n",
       "      <th>433</th>\n",
       "      <td>ACRX</td>\n",
       "      <td>-38.27</td>\n",
       "      <td>51.25</td>\n",
       "      <td>24.35</td>\n",
       "      <td>8.86</td>\n",
       "      <td>0</td>\n",
       "    </tr>\n",
       "    <tr>\n",
       "      <th>434</th>\n",
       "      <td>DSPG</td>\n",
       "      <td>-1.63</td>\n",
       "      <td>37.26</td>\n",
       "      <td>4.17</td>\n",
       "      <td>5.46</td>\n",
       "      <td>0</td>\n",
       "    </tr>\n",
       "  </tbody>\n",
       "</table>\n",
       "</div>"
      ],
      "text/plain": [
       "    Ticker  Chg_from_Hi  Chg_from_Lo  Chg_from_50davg  Short_Ratio Is_Dead_Cat\n",
       "430   BOKF       -13.23        47.81             4.69        13.55           0\n",
       "431    AKP        -0.89        18.31             0.91         0.00           0\n",
       "432    CTS        -5.63        48.48             4.19         8.40           0\n",
       "433   ACRX       -38.27        51.25            24.35         8.86           0\n",
       "434   DSPG        -1.63        37.26             4.17         5.46           0"
      ]
     },
     "execution_count": 110,
     "metadata": {},
     "output_type": "execute_result"
    }
   ],
   "source": [
    "project_df.tail()"
   ]
  },
  {
   "cell_type": "code",
   "execution_count": 111,
   "metadata": {
    "collapsed": false
   },
   "outputs": [
    {
     "data": {
      "text/plain": [
       "Ticker             425\n",
       "Chg_from_Hi        425\n",
       "Chg_from_Lo        425\n",
       "Chg_from_50davg    425\n",
       "Short_Ratio        425\n",
       "Is_Dead_Cat        425\n",
       "dtype: int64"
      ]
     },
     "execution_count": 111,
     "metadata": {},
     "output_type": "execute_result"
    }
   ],
   "source": [
    "project_df.count()"
   ]
  },
  {
   "cell_type": "markdown",
   "metadata": {},
   "source": [
    "### Metrics"
   ]
  },
  {
   "cell_type": "markdown",
   "metadata": {},
   "source": [
    "The above DataFrame contains data for 425 stocks, with the following features:\n",
    "1. Change From High: Represents the % change in the closing price (taken immediately before the dead cat bounce for all metrics) to the High for the trailing 12 months.\n",
    "2. Change from Low: Represents the % change in the closing price to the Low for the trailing 12 months.\n",
    "3. Change from Moving Average: Represents the % change in the closing price  to the 50 day moving average for the trailing 50 days.\n",
    "4. Short Ratio: (Shares sold short / Average Daily Volume for trailing 30 days)"
   ]
  },
  {
   "cell_type": "markdown",
   "metadata": {},
   "source": [
    "### Dependent Variable"
   ]
  },
  {
   "cell_type": "markdown",
   "metadata": {},
   "source": [
    "Is_Dead_Cat: Whether or not the stock diplayed the characteristics of a Dead Cat Bounce, with 1= yes and 0 = no. The Dataset contains 62 values where a dead cat bounce did occur and 363 values where the stock did not display dead cat bounce characteristics."
   ]
  },
  {
   "cell_type": "code",
   "execution_count": 112,
   "metadata": {
    "collapsed": false
   },
   "outputs": [
    {
     "data": {
      "text/plain": [
       "0    363\n",
       "1     62\n",
       "Name: Is_Dead_Cat, dtype: int64"
      ]
     },
     "execution_count": 112,
     "metadata": {},
     "output_type": "execute_result"
    }
   ],
   "source": [
    "project_df['Is_Dead_Cat'].value_counts()"
   ]
  },
  {
   "cell_type": "markdown",
   "metadata": {},
   "source": [
    "### Data Overview "
   ]
  },
  {
   "cell_type": "code",
   "execution_count": 113,
   "metadata": {
    "collapsed": false
   },
   "outputs": [
    {
     "data": {
      "text/html": [
       "<div>\n",
       "<table border=\"1\" class=\"dataframe\">\n",
       "  <thead>\n",
       "    <tr style=\"text-align: right;\">\n",
       "      <th></th>\n",
       "      <th>Chg_from_Hi</th>\n",
       "      <th>Chg_from_Lo</th>\n",
       "      <th>Chg_from_50davg</th>\n",
       "      <th>Short_Ratio</th>\n",
       "    </tr>\n",
       "  </thead>\n",
       "  <tbody>\n",
       "    <tr>\n",
       "      <th>count</th>\n",
       "      <td>425.000000</td>\n",
       "      <td>425.000000</td>\n",
       "      <td>425.000000</td>\n",
       "      <td>425.000000</td>\n",
       "    </tr>\n",
       "    <tr>\n",
       "      <th>mean</th>\n",
       "      <td>-24.339967</td>\n",
       "      <td>58.212851</td>\n",
       "      <td>1.932428</td>\n",
       "      <td>5.086400</td>\n",
       "    </tr>\n",
       "    <tr>\n",
       "      <th>std</th>\n",
       "      <td>25.147892</td>\n",
       "      <td>107.931554</td>\n",
       "      <td>11.848646</td>\n",
       "      <td>5.819312</td>\n",
       "    </tr>\n",
       "    <tr>\n",
       "      <th>min</th>\n",
       "      <td>-94.106500</td>\n",
       "      <td>0.840000</td>\n",
       "      <td>-75.450000</td>\n",
       "      <td>0.000000</td>\n",
       "    </tr>\n",
       "    <tr>\n",
       "      <th>25%</th>\n",
       "      <td>-36.880000</td>\n",
       "      <td>19.350163</td>\n",
       "      <td>-0.830000</td>\n",
       "      <td>1.230000</td>\n",
       "    </tr>\n",
       "    <tr>\n",
       "      <th>50%</th>\n",
       "      <td>-14.360000</td>\n",
       "      <td>35.930000</td>\n",
       "      <td>2.230000</td>\n",
       "      <td>3.510000</td>\n",
       "    </tr>\n",
       "    <tr>\n",
       "      <th>75%</th>\n",
       "      <td>-3.540000</td>\n",
       "      <td>57.728707</td>\n",
       "      <td>5.710000</td>\n",
       "      <td>6.570000</td>\n",
       "    </tr>\n",
       "    <tr>\n",
       "      <th>max</th>\n",
       "      <td>0.000000</td>\n",
       "      <td>1481.670000</td>\n",
       "      <td>60.190000</td>\n",
       "      <td>39.380000</td>\n",
       "    </tr>\n",
       "  </tbody>\n",
       "</table>\n",
       "</div>"
      ],
      "text/plain": [
       "       Chg_from_Hi  Chg_from_Lo  Chg_from_50davg  Short_Ratio\n",
       "count   425.000000   425.000000       425.000000   425.000000\n",
       "mean    -24.339967    58.212851         1.932428     5.086400\n",
       "std      25.147892   107.931554        11.848646     5.819312\n",
       "min     -94.106500     0.840000       -75.450000     0.000000\n",
       "25%     -36.880000    19.350163        -0.830000     1.230000\n",
       "50%     -14.360000    35.930000         2.230000     3.510000\n",
       "75%      -3.540000    57.728707         5.710000     6.570000\n",
       "max       0.000000  1481.670000        60.190000    39.380000"
      ]
     },
     "execution_count": 113,
     "metadata": {},
     "output_type": "execute_result"
    }
   ],
   "source": [
    "project_df.describe()"
   ]
  },
  {
   "cell_type": "markdown",
   "metadata": {},
   "source": [
    "The % change from high and % change from low give us an idea of the stocks volatility over the past year. However, the short ratio is probably the most important metric of all since it incorporates trading volumes over the month prior to the dead cat bounce."
   ]
  },
  {
   "cell_type": "markdown",
   "metadata": {},
   "source": [
    "### Short Ratio (Is_Dead_Cat = 1) "
   ]
  },
  {
   "cell_type": "code",
   "execution_count": 115,
   "metadata": {
    "collapsed": false
   },
   "outputs": [
    {
     "name": "stdout",
     "output_type": "stream",
     "text": [
      "count    62.000000\n",
      "mean      6.265483\n",
      "std       4.513502\n",
      "min       0.489053\n",
      "25%       3.146043\n",
      "50%       5.189852\n",
      "75%       8.071512\n",
      "max      22.035349\n",
      "Name: Short_Ratio, dtype: float64\n"
     ]
    },
    {
     "data": {
      "text/plain": [
       "<matplotlib.text.Text at 0x11cafa790>"
      ]
     },
     "execution_count": 115,
     "metadata": {},
     "output_type": "execute_result"
    },
    {
     "data": {
      "image/png": "[encoded data removed]",
      "text/plain": [
       "<matplotlib.figure.Figure at 0x11cc0b290>"
      ]
     },
     "metadata": {},
     "output_type": "display_data"
    }
   ],
   "source": [
    "DCB_df = project_df[project_df['Is_Dead_Cat']==str(1)]\n",
    "DCB_SR = DCB_df['Short_Ratio']\n",
    "print DCB_SR.describe()\n",
    "plt.boxplot(DCB_SR)\n",
    "plt.title('Short Ratio (Is_Dead_Cat=1)')"
   ]
  },
  {
   "cell_type": "markdown",
   "metadata": {},
   "source": [
    "### Short Ratio (Is_Dead_Cat = 0)"
   ]
  },
  {
   "cell_type": "code",
   "execution_count": 142,
   "metadata": {
    "collapsed": false
   },
   "outputs": [
    {
     "name": "stdout",
     "output_type": "stream",
     "text": [
      "   Ticker  Chg_from_Hi  Chg_from_Lo  Chg_from_50davg  Short_Ratio Is_Dead_Cat\n",
      "62   SMBK       -18.67         7.32            -1.16         3.22           0\n",
      "63    UGI        -0.85        43.64             1.42         2.82           0\n",
      "64   USAP       -14.36        91.64             3.98         3.43           0\n",
      "65    HBP       -20.14        86.96            -2.65         0.10           0\n",
      "66    ETW       -12.00        18.46             3.02         0.00           0\n",
      "count    363.000000\n",
      "mean       4.885014\n",
      "std        5.996065\n",
      "min        0.000000\n",
      "25%        0.795000\n",
      "50%        3.180000\n",
      "75%        6.080000\n",
      "max       39.380000\n",
      "Name: Short_Ratio, dtype: float64\n"
     ]
    },
    {
     "data": {
      "text/plain": [
       "<matplotlib.axes._subplots.AxesSubplot at 0x11db80610>"
      ]
     },
     "execution_count": 142,
     "metadata": {},
     "output_type": "execute_result"
    },
    {
     "data": {
      "image/png": "[encoded data removed]",
      "text/plain": [
       "<matplotlib.figure.Figure at 0x11cb08e10>"
      ]
     },
     "metadata": {},
     "output_type": "display_data"
    }
   ],
   "source": [
    "nonDCB_df = project_df[project_df['Is_Dead_Cat']==str(0)]\n",
    "print nonDCB_df.head()\n",
    "\n",
    "nonDCB_SR = nonDCB_df['Short_Ratio']\n",
    "print nonDCB_SR.describe()\n",
    "#plt.boxplot(nonDCB_SR)\n",
    "project_df['Short_Ratio'].plot(kind=\"density\", title=\"Short Ratio (Is_Dead_Cat=0)\", figsize=(4,4))"
   ]
  },
  {
   "cell_type": "markdown",
   "metadata": {},
   "source": [
    "As seen above, there are a few outliers in the data but the mean Short Ratio for the Dead Cat Bounce stocks is slightly higher than the mean Short Ratio for non DCB stocks. The range for non DCB stocks is much higher at 39.38 compared to ~22 for DCB stocks, however this is as expected due to the larger sample size of non DCB stocks"
   ]
  },
  {
   "cell_type": "markdown",
   "metadata": {},
   "source": [
    "### Change from High, Low, Moving Average"
   ]
  },
  {
   "cell_type": "code",
   "execution_count": 80,
   "metadata": {
    "collapsed": false
   },
   "outputs": [
    {
     "data": {
      "text/plain": [
       "count    425.000000\n",
       "mean       1.932428\n",
       "std       11.848646\n",
       "min      -75.450000\n",
       "25%       -0.830000\n",
       "50%        2.230000\n",
       "75%        5.710000\n",
       "max       60.190000\n",
       "Name: Chg_from_50davg, dtype: float64"
      ]
     },
     "execution_count": 80,
     "metadata": {},
     "output_type": "execute_result"
    },
    {
     "data": {
      "image/png": "[encoded data removed]",
      "text/plain": [
       "<matplotlib.figure.Figure at 0x11b2bd310>"
      ]
     },
     "metadata": {},
     "output_type": "display_data"
    }
   ],
   "source": [
    "project_df['Chg_from_50davg'].plot(kind=\"density\", title=\"50day Moving Average\", figsize=(4,4))\n",
    "project_df['Chg_from_50davg'].describe()"
   ]
  },
  {
   "cell_type": "markdown",
   "metadata": {},
   "source": [
    "The distribution for the 50 day moving average looks relatively normal based on the above graph with a range of approximately 135. "
   ]
  },
  {
   "cell_type": "code",
   "execution_count": 72,
   "metadata": {
    "collapsed": false
   },
   "outputs": [
    {
     "data": {
      "text/plain": [
       "<matplotlib.axes._subplots.AxesSubplot at 0x11b0c0a10>"
      ]
     },
     "execution_count": 72,
     "metadata": {},
     "output_type": "execute_result"
    },
    {
     "data": {
      "image/png": "[encoded data removed]",
      "text/plain": [
       "<matplotlib.figure.Figure at 0x11b2bdc50>"
      ]
     },
     "metadata": {},
     "output_type": "display_data"
    }
   ],
   "source": [
    "project_df['Chg_from_Hi'].plot(kind=\"density\", title=\"Change from High\", figsize=(4,4))"
   ]
  },
  {
   "cell_type": "code",
   "execution_count": 71,
   "metadata": {
    "collapsed": false
   },
   "outputs": [
    {
     "data": {
      "text/plain": [
       "<matplotlib.axes._subplots.AxesSubplot at 0x11af94f50>"
      ]
     },
     "execution_count": 71,
     "metadata": {},
     "output_type": "execute_result"
    },
    {
     "data": {
      "image/png": "[encoded data removed]",
      "text/plain": [
       "<matplotlib.figure.Figure at 0x11ac1db50>"
      ]
     },
     "metadata": {},
     "output_type": "display_data"
    }
   ],
   "source": [
    "project_df['Chg_from_Lo'].plot(kind=\"density\", title=\"Change from Low\", figsize=(4,4))"
   ]
  },
  {
   "cell_type": "code",
   "execution_count": 144,
   "metadata": {
    "collapsed": false
   },
   "outputs": [
    {
     "data": {
      "text/html": [
       "<div>\n",
       "<table border=\"1\" class=\"dataframe\">\n",
       "  <thead>\n",
       "    <tr style=\"text-align: right;\">\n",
       "      <th></th>\n",
       "      <th>Chg_from_Hi</th>\n",
       "      <th>Chg_from_Lo</th>\n",
       "      <th>Chg_from_50davg</th>\n",
       "      <th>Short_Ratio</th>\n",
       "    </tr>\n",
       "  </thead>\n",
       "  <tbody>\n",
       "    <tr>\n",
       "      <th>Chg_from_Hi</th>\n",
       "      <td>1.000000</td>\n",
       "      <td>-0.034092</td>\n",
       "      <td>0.331380</td>\n",
       "      <td>-0.208651</td>\n",
       "    </tr>\n",
       "    <tr>\n",
       "      <th>Chg_from_Lo</th>\n",
       "      <td>-0.034092</td>\n",
       "      <td>1.000000</td>\n",
       "      <td>0.433408</td>\n",
       "      <td>-0.025188</td>\n",
       "    </tr>\n",
       "    <tr>\n",
       "      <th>Chg_from_50davg</th>\n",
       "      <td>0.331380</td>\n",
       "      <td>0.433408</td>\n",
       "      <td>1.000000</td>\n",
       "      <td>-0.083635</td>\n",
       "    </tr>\n",
       "    <tr>\n",
       "      <th>Short_Ratio</th>\n",
       "      <td>-0.208651</td>\n",
       "      <td>-0.025188</td>\n",
       "      <td>-0.083635</td>\n",
       "      <td>1.000000</td>\n",
       "    </tr>\n",
       "  </tbody>\n",
       "</table>\n",
       "</div>"
      ],
      "text/plain": [
       "                 Chg_from_Hi  Chg_from_Lo  Chg_from_50davg  Short_Ratio\n",
       "Chg_from_Hi         1.000000    -0.034092         0.331380    -0.208651\n",
       "Chg_from_Lo        -0.034092     1.000000         0.433408    -0.025188\n",
       "Chg_from_50davg     0.331380     0.433408         1.000000    -0.083635\n",
       "Short_Ratio        -0.208651    -0.025188        -0.083635     1.000000"
      ]
     },
     "execution_count": 144,
     "metadata": {},
     "output_type": "execute_result"
    }
   ],
   "source": [
    " project_df.corr(method='pearson')"
   ]
  },
  {
   "cell_type": "markdown",
   "metadata": {},
   "source": [
    "The strongest association for our target variable appears to be a negative one between the Change from High statistic. However, since we will be using a logistic regression model and not a linear regression model this does not necessarily mean the other data is irrelevant. However this does raise the possibility of impacitng our hypothesis. If one of our variables proves to be more important in prediction, it may be the Change from high and not the Short Ratio.  "
   ]
  },
  {
   "cell_type": "markdown",
   "metadata": {},
   "source": [
    "### Comparing Data"
   ]
  },
  {
   "cell_type": "code",
   "execution_count": 143,
   "metadata": {
    "collapsed": false
   },
   "outputs": [
    {
     "data": {
      "text/html": [
       "<div>\n",
       "<table border=\"1\" class=\"dataframe\">\n",
       "  <thead>\n",
       "    <tr style=\"text-align: right;\">\n",
       "      <th></th>\n",
       "      <th>Ticker</th>\n",
       "      <th>Chg_from_Hi</th>\n",
       "      <th>Chg_from_Lo</th>\n",
       "      <th>Chg_from_50davg</th>\n",
       "      <th>Short_Ratio</th>\n",
       "      <th>Is_Dead_Cat</th>\n",
       "    </tr>\n",
       "  </thead>\n",
       "  <tbody>\n",
       "    <tr>\n",
       "      <th>0</th>\n",
       "      <td>USCR</td>\n",
       "      <td>-7.649554</td>\n",
       "      <td>72.938921</td>\n",
       "      <td>1.453999</td>\n",
       "      <td>4.083659</td>\n",
       "      <td>1</td>\n",
       "    </tr>\n",
       "    <tr>\n",
       "      <th>1</th>\n",
       "      <td>SRPT</td>\n",
       "      <td>-45.872218</td>\n",
       "      <td>110.614525</td>\n",
       "      <td>23.350694</td>\n",
       "      <td>3.639042</td>\n",
       "      <td>1</td>\n",
       "    </tr>\n",
       "    <tr>\n",
       "      <th>2</th>\n",
       "      <td>SPWR</td>\n",
       "      <td>-49.756256</td>\n",
       "      <td>14.603410</td>\n",
       "      <td>-8.774085</td>\n",
       "      <td>7.637297</td>\n",
       "      <td>1</td>\n",
       "    </tr>\n",
       "    <tr>\n",
       "      <th>3</th>\n",
       "      <td>CMA</td>\n",
       "      <td>-23.008850</td>\n",
       "      <td>29.013540</td>\n",
       "      <td>-8.893328</td>\n",
       "      <td>3.340925</td>\n",
       "      <td>1</td>\n",
       "    </tr>\n",
       "    <tr>\n",
       "      <th>4</th>\n",
       "      <td>AKS</td>\n",
       "      <td>-8.971963</td>\n",
       "      <td>166.120219</td>\n",
       "      <td>13.191348</td>\n",
       "      <td>2.565646</td>\n",
       "      <td>1</td>\n",
       "    </tr>\n",
       "  </tbody>\n",
       "</table>\n",
       "</div>"
      ],
      "text/plain": [
       "  Ticker  Chg_from_Hi  Chg_from_Lo  Chg_from_50davg  Short_Ratio Is_Dead_Cat\n",
       "0   USCR    -7.649554    72.938921         1.453999     4.083659           1\n",
       "1   SRPT   -45.872218   110.614525        23.350694     3.639042           1\n",
       "2   SPWR   -49.756256    14.603410        -8.774085     7.637297           1\n",
       "3    CMA   -23.008850    29.013540        -8.893328     3.340925           1\n",
       "4    AKS    -8.971963   166.120219        13.191348     2.565646           1"
      ]
     },
     "execution_count": 143,
     "metadata": {},
     "output_type": "execute_result"
    }
   ],
   "source": []
  },
  {
   "cell_type": "markdown",
   "metadata": {},
   "source": [
    "### Analysis Plan"
   ]
  },
  {
   "cell_type": "markdown",
   "metadata": {},
   "source": [
    "Given that we have four different features for each stock we now want to make sure we drop any outliers, which can be done for each series in the dataframe. Then we would want to randomly group 70-75% of the DCB stocks and 70-75% of the non DCB stocks into a training dataset and group the remaining data into another test dataset. After this, we should be ready to train a model using the training dataset, predicting a value of '1' or '0' for each stock. A logistic regression model would probably be the best suited to make predictions on this dataset. If time allows, I'd like to try using a random forest model as well."
   ]
  },
  {
   "cell_type": "code",
   "execution_count": null,
   "metadata": {
    "collapsed": true
   },
   "outputs": [],
   "source": []
  }
 ],
 "metadata": {
  "kernelspec": {
   "display_name": "Python 2",
   "language": "python",
   "name": "python2"
  },
  "language_info": {
   "codemirror_mode": {
    "name": "ipython",
    "version": 2
   },
   "file_extension": ".py",
   "mimetype": "text/x-python",
   "name": "python",
   "nbconvert_exporter": "python",
   "pygments_lexer": "ipython2",
   "version": "2.7.11"
  }
 },
 "nbformat": 4,
 "nbformat_minor": 0
}
