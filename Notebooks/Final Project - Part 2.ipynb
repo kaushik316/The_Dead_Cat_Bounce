{
 "cells": [
  {
   "cell_type": "markdown",
   "metadata": {},
   "source": [
    "# Dead Cat Bounce Study"
   ]
  },
  {
   "cell_type": "markdown",
   "metadata": {},
   "source": [
    "### Definition "
   ]
  },
  {
   "cell_type": "markdown",
   "metadata": {},
   "source": [
    "A dead cat bounce is a small, short lived recovery in the price of a declining security after a significant downward trend.\n",
    "For example, the market (or an individual stock) has been falling over the last ten weeks but there is a broad market rally in week 11. The rally is considered a dead cat bounce if it's short-lived and the market continues to fall again in week 12.\n",
    "Most of the time, waffling causes a dead cat bounce. During a long downward slide, some investors may think that the market or a particular security has bottomed out. They begin buying instead of selling, or some may be closing out their short positions and pocketing gains. These factors create a little buying momentum, albeit brief. After this buying momentum is over, the stock falls again. Dead cat bounce candidates can also be identified over shorter time frames, e.g a stock that drops 5% one day and rises 3% the next"
   ]
  },
  {
   "cell_type": "markdown",
   "metadata": {},
   "source": [
    "### Objective"
   ]
  },
  {
   "cell_type": "markdown",
   "metadata": {},
   "source": [
    "To classify stocks as candidates for a dead cat bounce based on trading metrics such as the short ratio (% of total shares that have been short sold), % change from 50 day moving average, % change from year high, etc, in the period leading up to that point. The goal is to build a model that predicts whether a certain stock is a stock that has displayed dead cat bounce behavior based on these attributes. "
   ]
  },
  {
   "cell_type": "markdown",
   "metadata": {},
   "source": [
    "### Method"
   ]
  },
  {
   "cell_type": "markdown",
   "metadata": {},
   "source": [
    "Prepare a CSV file of stocks that have exhibited behavior fitting a dead cat bounce candidate in the past year (i.e a drop of at least 5% followed by an increase of at least 3% the next day). Add a column IsDeadCat = 1 for these stocks. Then calculate the following metrics for each stock:\n",
    "1. Annualized gain\n",
    "2. Change from fifty day moving average\n",
    "3. Short ratio\n",
    "4. % Change from year high/low\n",
    "\n",
    "Then get the same trading metrics for stocks that did nto display this behavior using the Yahoo finance API. Split the total list of stocks (inclusive of DCB stocks and non DCB stocks) in half to create some data for a test dataset and some for a training dataset. Then, examine the features in the training set, fit to a model and cross validate. The trading metrics will be the features used to make predictions in the test data set. \n",
    "\n",
    "Finally we will use the model to predict a binary outcome, classifying stocks as Dead Cat bounce stocks (IsDeadCat = 1) or not (IsDeadCat = 0)."
   ]
  },
  {
   "cell_type": "markdown",
   "metadata": {},
   "source": [
    "### Indicators"
   ]
  },
  {
   "cell_type": "markdown",
   "metadata": {},
   "source": [
    "To identify dead cat bounce stocks for our training set we can look for:\n",
    "1. A stock that has been in a downtrend for  period of time - e.g a quarter.\n",
    "2. Stocks that are both shortable and optionable, which see more trading volume.\n",
    "3. Criteria such as a high beta-score or very poor fundamental characteristics. \n",
    "4. Measure price drop from close of trading the previous dat (looking for a drop over 10%)."
   ]
  },
  {
   "cell_type": "markdown",
   "metadata": {},
   "source": [
    "### Success "
   ]
  },
  {
   "cell_type": "markdown",
   "metadata": {},
   "source": [
    "Criteria for success include:\n",
    "1. Effectively collecting data for the test and training dataset with at least 120 to 150 samples for both. Of these, 30 or so will be actual dead cat bounce stocks in each set.\n",
    "2. Cross Validating the model\n",
    "3. Building a model that predicts dead cat bounce candidates with an accuracy above 75%\n",
    "4. Building a profile of what stocks are most likely to be candidates - i.e looking at the type of short ratio and moving average metrics we would expect to see from a DCB stock."
   ]
  },
  {
   "cell_type": "markdown",
   "metadata": {},
   "source": [
    "### Hypothesis "
   ]
  },
  {
   "cell_type": "markdown",
   "metadata": {},
   "source": [
    "I expect to see stocks with higher short ratios and more volatility (more distance between current price and 52 week high/low), with lots of variance in trading volume to be classified more often as dead cat bounce candidates.\n",
    "In general, I would expect large, low growth rate companies to not be classified as dead cat bounce stocks."
   ]
  },
  {
   "cell_type": "code",
   "execution_count": null,
   "metadata": {
    "collapsed": true
   },
   "outputs": [],
   "source": []
  }
 ],
 "metadata": {
  "kernelspec": {
   "display_name": "Python 2",
   "language": "python",
   "name": "python2"
  },
  "language_info": {
   "codemirror_mode": {
    "name": "ipython",
    "version": 2
   },
   "file_extension": ".py",
   "mimetype": "text/x-python",
   "name": "python",
   "nbconvert_exporter": "python",
   "pygments_lexer": "ipython2",
   "version": "2.7.11"
  }
 },
 "nbformat": 4,
 "nbformat_minor": 0
}
