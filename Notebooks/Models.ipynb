{
 "cells": [
  {
   "cell_type": "code",
   "execution_count": 1,
   "metadata": {
    "collapsed": true
   },
   "outputs": [],
   "source": [
    "import pandas as pd\n",
    "import numpy as np \n",
    "from sklearn.tree import DecisionTreeClassifier\n",
    "from sklearn.tree import export_graphviz\n",
    "from os import system \n",
    "from sklearn.model_selection import GridSearchCV\n",
    "from sklearn.model_selection import StratifiedShuffleSplit\n",
    "from sklearn.model_selection import train_test_split\n",
    "from sklearn.metrics import precision_score\n",
    "from sklearn.metrics import recall_score\n",
    "from sklearn.ensemble import RandomForestClassifier\n",
    "from sklearn.svm import SVC\n",
    "from sklearn.metrics import confusion_matrix\n",
    "from random import randint\n",
    "import plotly.plotly as py\n",
    "import plotly.graph_objs as go\n",
    "import warnings\n",
    "warnings.simplefilter(action='ignore')\n",
    "py.sign_in('kaushik.316', '86eaqb1c8w')"
   ]
  },
  {
   "cell_type": "markdown",
   "metadata": {},
   "source": [
    "### Data Format"
   ]
  },
  {
   "cell_type": "code",
   "execution_count": 2,
   "metadata": {},
   "outputs": [
    {
     "data": {
      "text/plain": [
       "Ticker             425\n",
       "Chg_from_Hi        425\n",
       "Chg_from_Lo        425\n",
       "Chg_from_50davg    425\n",
       "Short_Ratio        425\n",
       "Is_Dead_Cat        425\n",
       "dtype: int64"
      ]
     },
     "execution_count": 2,
     "metadata": {},
     "output_type": "execute_result"
    }
   ],
   "source": [
    "project_df = pd.read_csv('../Data/CONSOLIDATED_DCB_DATA.csv')\n",
    "project_df = project_df.drop(project_df.columns[[0]],axis=1)\n",
    "project_df = project_df[np.isfinite(project_df['Chg_from_50davg'])]\n",
    "project_df.count()"
   ]
  },
  {
   "cell_type": "code",
   "execution_count": 3,
   "metadata": {},
   "outputs": [
    {
     "data": {
      "text/html": [
       "<div>\n",
       "<style>\n",
       "    .dataframe thead tr:only-child th {\n",
       "        text-align: right;\n",
       "    }\n",
       "\n",
       "    .dataframe thead th {\n",
       "        text-align: left;\n",
       "    }\n",
       "\n",
       "    .dataframe tbody tr th {\n",
       "        vertical-align: top;\n",
       "    }\n",
       "</style>\n",
       "<table border=\"1\" class=\"dataframe\">\n",
       "  <thead>\n",
       "    <tr style=\"text-align: right;\">\n",
       "      <th></th>\n",
       "      <th>Ticker</th>\n",
       "      <th>Chg_from_Hi</th>\n",
       "      <th>Chg_from_Lo</th>\n",
       "      <th>Chg_from_50davg</th>\n",
       "      <th>Short_Ratio</th>\n",
       "      <th>Is_Dead_Cat</th>\n",
       "    </tr>\n",
       "  </thead>\n",
       "  <tbody>\n",
       "    <tr>\n",
       "      <th>0</th>\n",
       "      <td>USCR</td>\n",
       "      <td>-7.649554</td>\n",
       "      <td>72.938921</td>\n",
       "      <td>1.453999</td>\n",
       "      <td>4.083659</td>\n",
       "      <td>1</td>\n",
       "    </tr>\n",
       "    <tr>\n",
       "      <th>1</th>\n",
       "      <td>SRPT</td>\n",
       "      <td>-45.872218</td>\n",
       "      <td>110.614525</td>\n",
       "      <td>23.350694</td>\n",
       "      <td>3.639042</td>\n",
       "      <td>1</td>\n",
       "    </tr>\n",
       "    <tr>\n",
       "      <th>2</th>\n",
       "      <td>SPWR</td>\n",
       "      <td>-49.756256</td>\n",
       "      <td>14.603410</td>\n",
       "      <td>-8.774085</td>\n",
       "      <td>7.637297</td>\n",
       "      <td>1</td>\n",
       "    </tr>\n",
       "    <tr>\n",
       "      <th>3</th>\n",
       "      <td>CMA</td>\n",
       "      <td>-23.008850</td>\n",
       "      <td>29.013540</td>\n",
       "      <td>-8.893328</td>\n",
       "      <td>3.340925</td>\n",
       "      <td>1</td>\n",
       "    </tr>\n",
       "    <tr>\n",
       "      <th>4</th>\n",
       "      <td>AKS</td>\n",
       "      <td>-8.971963</td>\n",
       "      <td>166.120219</td>\n",
       "      <td>13.191348</td>\n",
       "      <td>2.565646</td>\n",
       "      <td>1</td>\n",
       "    </tr>\n",
       "  </tbody>\n",
       "</table>\n",
       "</div>"
      ],
      "text/plain": [
       "  Ticker  Chg_from_Hi  Chg_from_Lo  Chg_from_50davg  Short_Ratio  Is_Dead_Cat\n",
       "0   USCR    -7.649554    72.938921         1.453999     4.083659            1\n",
       "1   SRPT   -45.872218   110.614525        23.350694     3.639042            1\n",
       "2   SPWR   -49.756256    14.603410        -8.774085     7.637297            1\n",
       "3    CMA   -23.008850    29.013540        -8.893328     3.340925            1\n",
       "4    AKS    -8.971963   166.120219        13.191348     2.565646            1"
      ]
     },
     "execution_count": 3,
     "metadata": {},
     "output_type": "execute_result"
    }
   ],
   "source": [
    "project_df.head()"
   ]
  },
  {
   "cell_type": "markdown",
   "metadata": {},
   "source": [
    "### Visualizations"
   ]
  },
  {
   "cell_type": "code",
   "execution_count": 4,
   "metadata": {
    "collapsed": true
   },
   "outputs": [],
   "source": [
    "DCB_df = project_df[project_df['Is_Dead_Cat']==1]\n",
    "nonDCB_df = project_df[project_df['Is_Dead_Cat']==0]"
   ]
  },
  {
   "cell_type": "markdown",
   "metadata": {},
   "source": [
    "#### Distribution"
   ]
  },
  {
   "cell_type": "code",
   "execution_count": 5,
   "metadata": {},
   "outputs": [
    {
     "data": {
      "text/html": [
       "<iframe id=\"igraph\" scrolling=\"no\" style=\"border:none;\" seamless=\"seamless\" src=\"https://plot.ly/~kaushik.316/6.embed\" height=\"525px\" width=\"100%\"></iframe>"
      ],
      "text/plain": [
       "<plotly.tools.PlotlyDisplay object>"
      ]
     },
     "execution_count": 5,
     "metadata": {},
     "output_type": "execute_result"
    }
   ],
   "source": [
    "from plotly.tools import FigureFactory as FF\n",
    "\n",
    "x1 = DCB_df['Chg_from_Hi']\n",
    "x2 = DCB_df['Chg_from_Lo'] \n",
    "x3 = DCB_df['Chg_from_50davg']\n",
    "x4 = DCB_df['Short_Ratio']\n",
    "\n",
    "hist_data = [x1,x2,x3,x4]\n",
    "group_labels = ['Chg_from_Hi','Chg_from_Lo','Chg_from_50davg','Short_Ratio']\n",
    "fig = FF.create_distplot(hist_data, group_labels, show_hist=False)\n",
    "\n",
    "py.iplot(fig, filename='DCB Distplot with Multiple Datasets', validate=False)"
   ]
  },
  {
   "cell_type": "markdown",
   "metadata": {},
   "source": [
    "#### Mean Comparison"
   ]
  },
  {
   "cell_type": "code",
   "execution_count": 6,
   "metadata": {},
   "outputs": [
    {
     "data": {
      "text/html": [
       "<iframe id=\"igraph\" scrolling=\"no\" style=\"border:none;\" seamless=\"seamless\" src=\"https://plot.ly/~kaushik.316/8.embed\" height=\"525px\" width=\"100%\"></iframe>"
      ],
      "text/plain": [
       "<plotly.tools.PlotlyDisplay object>"
      ]
     },
     "execution_count": 6,
     "metadata": {},
     "output_type": "execute_result"
    }
   ],
   "source": [
    "mean_cols = ['Chg_from_Hi','Chg_from_Lo','Chg_from_50davg','Short_Ratio']\n",
    "DCB_means = DCB_df[mean_cols].mean()\n",
    "nonDCB_means = nonDCB_df[mean_cols].mean()\n",
    "\n",
    "x1 = go.Bar(\n",
    "    x= mean_cols,\n",
    "    y=DCB_means,\n",
    "    name='DCB Stocks'\n",
    ")\n",
    "\n",
    "x2 = go.Bar(\n",
    "    x=mean_cols,\n",
    "    y=nonDCB_means,\n",
    "    name='nonDCB stocks'\n",
    ")\n",
    "\n",
    "data = [x1,x2]\n",
    "layout = go.Layout(\n",
    "    barmode='group'\n",
    ")\n",
    "\n",
    "fig = go.Figure(data=data, layout=layout)\n",
    "py.iplot(fig, filename='DCB mean grouped-bar', title=\"Averages\")"
   ]
  },
  {
   "cell_type": "markdown",
   "metadata": {},
   "source": [
    "#### Median Comparison"
   ]
  },
  {
   "cell_type": "code",
   "execution_count": 7,
   "metadata": {},
   "outputs": [
    {
     "data": {
      "text/html": [
       "<iframe id=\"igraph\" scrolling=\"no\" style=\"border:none;\" seamless=\"seamless\" src=\"https://plot.ly/~kaushik.316/4.embed\" height=\"525px\" width=\"100%\"></iframe>"
      ],
      "text/plain": [
       "<plotly.tools.PlotlyDisplay object>"
      ]
     },
     "execution_count": 7,
     "metadata": {},
     "output_type": "execute_result"
    }
   ],
   "source": [
    "median_cols = ['Chg_from_Hi','Chg_from_Lo','Chg_from_50davg','Short_Ratio']\n",
    "DCB_medians = DCB_df[median_cols].median()\n",
    "nonDCB_medians = nonDCB_df[median_cols].median()\n",
    "\n",
    "m1 = go.Bar(\n",
    "    x= median_cols,\n",
    "    y=DCB_medians,\n",
    "    name='nonDCB Stocks'\n",
    ")\n",
    "\n",
    "m2 = go.Bar(\n",
    "    x=median_cols,\n",
    "    y=nonDCB_medians,\n",
    "    name='nonDCB stocks'\n",
    ")\n",
    "\n",
    "data = [m1,m2]\n",
    "layout = go.Layout(\n",
    "    barmode='group'\n",
    ")\n",
    "\n",
    "fig = go.Figure(data=data, layout=layout)\n",
    "py.iplot(fig, filename='DCB median grouped-bar')"
   ]
  },
  {
   "cell_type": "markdown",
   "metadata": {},
   "source": [
    "### Creating the Training and Test Dataset"
   ]
  },
  {
   "cell_type": "code",
   "execution_count": 8,
   "metadata": {
    "collapsed": true
   },
   "outputs": [],
   "source": [
    "# Function that makes sure duplicates of class '1' are not all exactly the same\n",
    "def make_noise(x):\n",
    "    rand = randint(0,1)\n",
    "    if rand == 0:\n",
    "        return x * .95\n",
    "    else:\n",
    "        return x * 1.05    "
   ]
  },
  {
   "cell_type": "code",
   "execution_count": 9,
   "metadata": {},
   "outputs": [
    {
     "data": {
      "text/html": [
       "<div>\n",
       "<style>\n",
       "    .dataframe thead tr:only-child th {\n",
       "        text-align: right;\n",
       "    }\n",
       "\n",
       "    .dataframe thead th {\n",
       "        text-align: left;\n",
       "    }\n",
       "\n",
       "    .dataframe tbody tr th {\n",
       "        vertical-align: top;\n",
       "    }\n",
       "</style>\n",
       "<table border=\"1\" class=\"dataframe\">\n",
       "  <thead>\n",
       "    <tr style=\"text-align: right;\">\n",
       "      <th></th>\n",
       "      <th>Ticker</th>\n",
       "      <th>Chg_from_Hi</th>\n",
       "      <th>Chg_from_Lo</th>\n",
       "      <th>Chg_from_50davg</th>\n",
       "      <th>Short_Ratio</th>\n",
       "      <th>Is_Dead_Cat</th>\n",
       "    </tr>\n",
       "  </thead>\n",
       "  <tbody>\n",
       "    <tr>\n",
       "      <th>0</th>\n",
       "      <td>USCR</td>\n",
       "      <td>-7.649554</td>\n",
       "      <td>72.938921</td>\n",
       "      <td>1.453999</td>\n",
       "      <td>4.083659</td>\n",
       "      <td>1</td>\n",
       "    </tr>\n",
       "    <tr>\n",
       "      <th>1</th>\n",
       "      <td>SRPT</td>\n",
       "      <td>-45.872218</td>\n",
       "      <td>110.614525</td>\n",
       "      <td>23.350694</td>\n",
       "      <td>3.639042</td>\n",
       "      <td>1</td>\n",
       "    </tr>\n",
       "    <tr>\n",
       "      <th>2</th>\n",
       "      <td>SPWR</td>\n",
       "      <td>-49.756256</td>\n",
       "      <td>14.603410</td>\n",
       "      <td>-8.774085</td>\n",
       "      <td>7.637297</td>\n",
       "      <td>1</td>\n",
       "    </tr>\n",
       "    <tr>\n",
       "      <th>3</th>\n",
       "      <td>CMA</td>\n",
       "      <td>-23.008850</td>\n",
       "      <td>29.013540</td>\n",
       "      <td>-8.893328</td>\n",
       "      <td>3.340925</td>\n",
       "      <td>1</td>\n",
       "    </tr>\n",
       "    <tr>\n",
       "      <th>4</th>\n",
       "      <td>AKS</td>\n",
       "      <td>-8.971963</td>\n",
       "      <td>166.120219</td>\n",
       "      <td>13.191348</td>\n",
       "      <td>2.565646</td>\n",
       "      <td>1</td>\n",
       "    </tr>\n",
       "  </tbody>\n",
       "</table>\n",
       "</div>"
      ],
      "text/plain": [
       "  Ticker  Chg_from_Hi  Chg_from_Lo  Chg_from_50davg  Short_Ratio  Is_Dead_Cat\n",
       "0   USCR    -7.649554    72.938921         1.453999     4.083659            1\n",
       "1   SRPT   -45.872218   110.614525        23.350694     3.639042            1\n",
       "2   SPWR   -49.756256    14.603410        -8.774085     7.637297            1\n",
       "3    CMA   -23.008850    29.013540        -8.893328     3.340925            1\n",
       "4    AKS    -8.971963   166.120219        13.191348     2.565646            1"
      ]
     },
     "execution_count": 9,
     "metadata": {},
     "output_type": "execute_result"
    }
   ],
   "source": [
    "# Oversampling - create copies of less represented class. \n",
    "DCB_df_copy = DCB_df\n",
    "DCB_df_copy.head()"
   ]
  },
  {
   "cell_type": "code",
   "execution_count": 10,
   "metadata": {},
   "outputs": [
    {
     "data": {
      "text/html": [
       "<div>\n",
       "<style>\n",
       "    .dataframe thead tr:only-child th {\n",
       "        text-align: right;\n",
       "    }\n",
       "\n",
       "    .dataframe thead th {\n",
       "        text-align: left;\n",
       "    }\n",
       "\n",
       "    .dataframe tbody tr th {\n",
       "        vertical-align: top;\n",
       "    }\n",
       "</style>\n",
       "<table border=\"1\" class=\"dataframe\">\n",
       "  <thead>\n",
       "    <tr style=\"text-align: right;\">\n",
       "      <th></th>\n",
       "      <th>Ticker</th>\n",
       "      <th>Chg_from_Hi</th>\n",
       "      <th>Chg_from_Lo</th>\n",
       "      <th>Chg_from_50davg</th>\n",
       "      <th>Short_Ratio</th>\n",
       "      <th>Is_Dead_Cat</th>\n",
       "    </tr>\n",
       "  </thead>\n",
       "  <tbody>\n",
       "    <tr>\n",
       "      <th>0</th>\n",
       "      <td>USCR</td>\n",
       "      <td>-8.032032</td>\n",
       "      <td>69.291975</td>\n",
       "      <td>1.526699</td>\n",
       "      <td>4.287842</td>\n",
       "      <td>1</td>\n",
       "    </tr>\n",
       "    <tr>\n",
       "      <th>1</th>\n",
       "      <td>SRPT</td>\n",
       "      <td>-43.578607</td>\n",
       "      <td>105.083799</td>\n",
       "      <td>24.518229</td>\n",
       "      <td>3.457090</td>\n",
       "      <td>1</td>\n",
       "    </tr>\n",
       "    <tr>\n",
       "      <th>2</th>\n",
       "      <td>SPWR</td>\n",
       "      <td>-47.268443</td>\n",
       "      <td>15.333580</td>\n",
       "      <td>-8.335381</td>\n",
       "      <td>8.019161</td>\n",
       "      <td>1</td>\n",
       "    </tr>\n",
       "    <tr>\n",
       "      <th>3</th>\n",
       "      <td>CMA</td>\n",
       "      <td>-21.858407</td>\n",
       "      <td>30.464217</td>\n",
       "      <td>-8.448662</td>\n",
       "      <td>3.507972</td>\n",
       "      <td>1</td>\n",
       "    </tr>\n",
       "    <tr>\n",
       "      <th>4</th>\n",
       "      <td>AKS</td>\n",
       "      <td>-9.420561</td>\n",
       "      <td>174.426230</td>\n",
       "      <td>12.531781</td>\n",
       "      <td>2.693928</td>\n",
       "      <td>1</td>\n",
       "    </tr>\n",
       "  </tbody>\n",
       "</table>\n",
       "</div>"
      ],
      "text/plain": [
       "  Ticker  Chg_from_Hi  Chg_from_Lo  Chg_from_50davg  Short_Ratio  Is_Dead_Cat\n",
       "0   USCR    -8.032032    69.291975         1.526699     4.287842            1\n",
       "1   SRPT   -43.578607   105.083799        24.518229     3.457090            1\n",
       "2   SPWR   -47.268443    15.333580        -8.335381     8.019161            1\n",
       "3    CMA   -21.858407    30.464217        -8.448662     3.507972            1\n",
       "4    AKS    -9.420561   174.426230        12.531781     2.693928            1"
      ]
     },
     "execution_count": 10,
     "metadata": {},
     "output_type": "execute_result"
    }
   ],
   "source": [
    "# Add a little noise to the copied values\n",
    "for col in DCB_df_copy.columns[1:-1]:\n",
    "    DCB_df_copy[col] = DCB_df_copy[col].apply(make_noise)\n",
    "\n",
    "DCB_df_copy.head()"
   ]
  },
  {
   "cell_type": "code",
   "execution_count": 11,
   "metadata": {},
   "outputs": [
    {
     "name": "stdout",
     "output_type": "stream",
     "text": [
      "0    363\n",
      "1    124\n",
      "Name: Is_Dead_Cat, dtype: int64\n"
     ]
    }
   ],
   "source": [
    "project_df = pd.concat([project_df, DCB_df_copy])\n",
    "print project_df.Is_Dead_Cat.value_counts()"
   ]
  },
  {
   "cell_type": "markdown",
   "metadata": {},
   "source": [
    "#### Training Dataset"
   ]
  },
  {
   "cell_type": "code",
   "execution_count": 12,
   "metadata": {
    "collapsed": true
   },
   "outputs": [],
   "source": [
    "# shuffle data\n",
    "project_df = project_df.sample(frac=1)\n",
    "\n",
    "X = project_df.iloc[:, 1:-1]\n",
    "y = project_df.iloc[:, -1:]"
   ]
  },
  {
   "cell_type": "code",
   "execution_count": 13,
   "metadata": {
    "collapsed": true
   },
   "outputs": [],
   "source": [
    "x_traindf, x_testdf, y_traindf, y_testdf = train_test_split(X, y, test_size=0.25, random_state=42)"
   ]
  },
  {
   "cell_type": "code",
   "execution_count": 14,
   "metadata": {},
   "outputs": [
    {
     "data": {
      "text/plain": [
       "Chg_from_Hi        365\n",
       "Chg_from_Lo        365\n",
       "Chg_from_50davg    365\n",
       "Short_Ratio        365\n",
       "dtype: int64"
      ]
     },
     "execution_count": 14,
     "metadata": {},
     "output_type": "execute_result"
    }
   ],
   "source": [
    "x_traindf.count()"
   ]
  },
  {
   "cell_type": "code",
   "execution_count": 15,
   "metadata": {},
   "outputs": [
    {
     "data": {
      "text/plain": [
       "0    280\n",
       "1     85\n",
       "Name: Is_Dead_Cat, dtype: int64"
      ]
     },
     "execution_count": 15,
     "metadata": {},
     "output_type": "execute_result"
    }
   ],
   "source": [
    "y_traindf['Is_Dead_Cat'].value_counts()"
   ]
  },
  {
   "cell_type": "markdown",
   "metadata": {},
   "source": [
    "#### Test Dataset"
   ]
  },
  {
   "cell_type": "code",
   "execution_count": 16,
   "metadata": {},
   "outputs": [
    {
     "data": {
      "text/plain": [
       "Chg_from_Hi        122\n",
       "Chg_from_Lo        122\n",
       "Chg_from_50davg    122\n",
       "Short_Ratio        122\n",
       "dtype: int64"
      ]
     },
     "execution_count": 16,
     "metadata": {},
     "output_type": "execute_result"
    }
   ],
   "source": [
    "x_testdf.count()"
   ]
  },
  {
   "cell_type": "code",
   "execution_count": 17,
   "metadata": {},
   "outputs": [
    {
     "data": {
      "text/plain": [
       "0    83\n",
       "1    39\n",
       "Name: Is_Dead_Cat, dtype: int64"
      ]
     },
     "execution_count": 17,
     "metadata": {},
     "output_type": "execute_result"
    }
   ],
   "source": [
    "y_testdf['Is_Dead_Cat'].value_counts()"
   ]
  },
  {
   "cell_type": "code",
   "execution_count": 18,
   "metadata": {
    "collapsed": true
   },
   "outputs": [],
   "source": [
    "# Convert to numpy array for uniformity\n",
    "x_train = x_traindf.as_matrix()\n",
    "y_train = y_traindf.as_matrix()\n",
    "x_test = x_testdf.as_matrix()\n",
    "y_test = y_testdf.as_matrix()\n",
    "\n",
    "# reshape y\n",
    "y_train = np.reshape(y_train, (len(y_train), ))\n",
    "y_test = np.reshape(y_test, (len(y_test), ))"
   ]
  },
  {
   "cell_type": "markdown",
   "metadata": {},
   "source": [
    "### Support Vector Machine "
   ]
  },
  {
   "cell_type": "code",
   "execution_count": 19,
   "metadata": {
    "collapsed": true
   },
   "outputs": [],
   "source": [
    "# Parameter grid for grid search\n",
    "# Omit C values from the grid as class_weight param does this automatically for us\n",
    "svm_parameters = {'kernel': ['linear', 'rbf'],\n",
    "\t\t\t  \t  'degree': [1,3,5],\n",
    "\t\t\t\t  'gamma': [1e-1, 1e2, 5]}\n",
    "\n",
    "cv = StratifiedShuffleSplit(n_splits=10, test_size=0.2)\n",
    "svm_clf = SVC(class_weight='balanced', probability=True)"
   ]
  },
  {
   "cell_type": "code",
   "execution_count": 20,
   "metadata": {},
   "outputs": [
    {
     "name": "stdout",
     "output_type": "stream",
     "text": [
      "The best parameters are {'kernel': 'rbf', 'gamma': 0.1, 'degree': 1} with a score of 0.82\n",
      "Grid search's score on new test data was 0.77868852459\n"
     ]
    }
   ],
   "source": [
    "grid = GridSearchCV(svm_clf, param_grid=svm_parameters, cv=cv)\n",
    "grid.fit(x_train, y_train)\n",
    "print(\"The best parameters are %s with a score of %0.2f\" % (grid.best_params_, grid.best_score_))\n",
    "\n",
    "grid_score = grid.score(x_test, y_test)\n",
    "print \"Grid search's score on new test data was {}\".format(grid_score)"
   ]
  },
  {
   "cell_type": "raw",
   "metadata": {},
   "source": [
    "svm_clf = SVC(class_weight={1:3}, probability=True)\n",
    "svm_clf.fit(x_train, y_train)"
   ]
  },
  {
   "cell_type": "code",
   "execution_count": 21,
   "metadata": {
    "collapsed": true
   },
   "outputs": [],
   "source": [
    "# Map from predictions to probabilities based on set threshold\n",
    "def map_predictions(x):\n",
    "    threshold = 0.3\n",
    "    if x > threshold:\n",
    "        return 1\n",
    "    else:\n",
    "        return 0"
   ]
  },
  {
   "cell_type": "code",
   "execution_count": 22,
   "metadata": {},
   "outputs": [
    {
     "data": {
      "text/html": [
       "<div>\n",
       "<style>\n",
       "    .dataframe thead tr:only-child th {\n",
       "        text-align: right;\n",
       "    }\n",
       "\n",
       "    .dataframe thead th {\n",
       "        text-align: left;\n",
       "    }\n",
       "\n",
       "    .dataframe tbody tr th {\n",
       "        vertical-align: top;\n",
       "    }\n",
       "</style>\n",
       "<table border=\"1\" class=\"dataframe\">\n",
       "  <thead>\n",
       "    <tr style=\"text-align: right;\">\n",
       "      <th></th>\n",
       "      <th>Chg_from_Hi</th>\n",
       "      <th>Chg_from_Lo</th>\n",
       "      <th>Chg_from_50davg</th>\n",
       "      <th>Short_Ratio</th>\n",
       "      <th>predicted_prob</th>\n",
       "      <th>predictions</th>\n",
       "      <th>actuals</th>\n",
       "    </tr>\n",
       "  </thead>\n",
       "  <tbody>\n",
       "    <tr>\n",
       "      <th>140</th>\n",
       "      <td>-2.310000</td>\n",
       "      <td>13.270000</td>\n",
       "      <td>-0.100000</td>\n",
       "      <td>0.000000</td>\n",
       "      <td>0.008542</td>\n",
       "      <td>0</td>\n",
       "      <td>0</td>\n",
       "    </tr>\n",
       "    <tr>\n",
       "      <th>61</th>\n",
       "      <td>-55.151157</td>\n",
       "      <td>60.075503</td>\n",
       "      <td>13.501665</td>\n",
       "      <td>8.382043</td>\n",
       "      <td>0.229425</td>\n",
       "      <td>0</td>\n",
       "      <td>1</td>\n",
       "    </tr>\n",
       "    <tr>\n",
       "      <th>30</th>\n",
       "      <td>-86.499596</td>\n",
       "      <td>52.372263</td>\n",
       "      <td>15.721296</td>\n",
       "      <td>6.448787</td>\n",
       "      <td>0.229469</td>\n",
       "      <td>0</td>\n",
       "      <td>1</td>\n",
       "    </tr>\n",
       "    <tr>\n",
       "      <th>429</th>\n",
       "      <td>-5.160000</td>\n",
       "      <td>20.020000</td>\n",
       "      <td>0.250000</td>\n",
       "      <td>13.780000</td>\n",
       "      <td>0.163676</td>\n",
       "      <td>0</td>\n",
       "      <td>0</td>\n",
       "    </tr>\n",
       "    <tr>\n",
       "      <th>226</th>\n",
       "      <td>-7.340000</td>\n",
       "      <td>38.360000</td>\n",
       "      <td>-2.970000</td>\n",
       "      <td>2.150000</td>\n",
       "      <td>1.000000</td>\n",
       "      <td>1</td>\n",
       "      <td>0</td>\n",
       "    </tr>\n",
       "  </tbody>\n",
       "</table>\n",
       "</div>"
      ],
      "text/plain": [
       "     Chg_from_Hi  Chg_from_Lo  Chg_from_50davg  Short_Ratio  predicted_prob  \\\n",
       "140    -2.310000    13.270000        -0.100000     0.000000        0.008542   \n",
       "61    -55.151157    60.075503        13.501665     8.382043        0.229425   \n",
       "30    -86.499596    52.372263        15.721296     6.448787        0.229469   \n",
       "429    -5.160000    20.020000         0.250000    13.780000        0.163676   \n",
       "226    -7.340000    38.360000        -2.970000     2.150000        1.000000   \n",
       "\n",
       "     predictions  actuals  \n",
       "140            0        0  \n",
       "61             0        1  \n",
       "30             0        1  \n",
       "429            0        0  \n",
       "226            1        0  "
      ]
     },
     "execution_count": 22,
     "metadata": {},
     "output_type": "execute_result"
    }
   ],
   "source": [
    "# Make predictions on the model\n",
    "x_testdf['predicted_prob'] = grid.predict_proba(x_test)[:, 1]\n",
    "x_testdf['predictions'] = x_testdf['predicted_prob'].apply(map_predictions)\n",
    "x_testdf['actuals'] = y_test\n",
    "x_testdf.head()"
   ]
  },
  {
   "cell_type": "markdown",
   "metadata": {},
   "source": [
    "#### Accuracy measure"
   ]
  },
  {
   "cell_type": "markdown",
   "metadata": {},
   "source": [
    "Since occurrences of dead cat bounces are rare, our data is unbalanced. To ensure that our model is not simply predicting a zero every time, we can examine the precision, which should be high. A high precision indicates that the number of true positives is high relative to the number of false positives."
   ]
  },
  {
   "cell_type": "code",
   "execution_count": 23,
   "metadata": {},
   "outputs": [
    {
     "name": "stdout",
     "output_type": "stream",
     "text": [
      "Model accuracy is 0.77868852459\n",
      "Model precision is 0.666666666667\n",
      "Model recall is 0.928571428571\n"
     ]
    }
   ],
   "source": [
    "grid_score = grid.score(x_test, y_test)\n",
    "grid_precision = precision_score(x_testdf[\"predictions\"], x_testdf[\"actuals\"])\n",
    "grid_recall = recall_score(x_testdf[\"predictions\"], x_testdf[\"actuals\"])\n",
    "\n",
    "print \"Model accuracy is {}\".format(grid_score)\n",
    "print \"Model precision is {}\".format(grid_precision)\n",
    "print \"Model recall is {}\".format(grid_recall)"
   ]
  },
  {
   "cell_type": "markdown",
   "metadata": {},
   "source": [
    "We can see that the precision of our model is lower than overall accuracy, though the overall precision is not bad. As shown in the heat map below, the number of false positives and false negatives predicted is acceptable."
   ]
  },
  {
   "cell_type": "markdown",
   "metadata": {},
   "source": [
    "#### Confusion Matrix"
   ]
  },
  {
   "cell_type": "code",
   "execution_count": 24,
   "metadata": {},
   "outputs": [
    {
     "name": "stdout",
     "output_type": "stream",
     "text": [
      "True Negatives: 81\n",
      "False Positives: 2\n",
      "False Negatives: 13\n",
      "True Positives: 26\n"
     ]
    }
   ],
   "source": [
    "y_true = x_testdf[\"actuals\"]\n",
    "y_pred = x_testdf[\"predictions\"] \n",
    "matrix = confusion_matrix(y_true, y_pred)\n",
    "\n",
    "\n",
    "print \"True Negatives: %s\" % (matrix[0][0])\n",
    "print \"False Positives: %s\" % (matrix[0][1])\n",
    "print \"False Negatives: %s\" % (matrix[1][0])\n",
    "print \"True Positives: %s\" % (matrix[1][1])"
   ]
  },
  {
   "cell_type": "code",
   "execution_count": 25,
   "metadata": {},
   "outputs": [
    {
     "data": {
      "text/html": [
       "<iframe id=\"igraph\" scrolling=\"no\" style=\"border:none;\" seamless=\"seamless\" src=\"https://plot.ly/~kaushik.316/10.embed\" height=\"525px\" width=\"100%\"></iframe>"
      ],
      "text/plain": [
       "<plotly.tools.PlotlyDisplay object>"
      ]
     },
     "execution_count": 25,
     "metadata": {},
     "output_type": "execute_result"
    }
   ],
   "source": [
    "matrixplot = [\n",
    "    go.Heatmap(\n",
    "        z= [[matrix[1][0], matrix[1][1]],[matrix[0][0], matrix[0][1]]],\n",
    "        x=['Predicted No', 'Predicted Yes'],\n",
    "        y=['Actual Yes', 'Actual No'],\n",
    "    )\n",
    "]\n",
    "py.iplot(matrixplot, filename='labelled-heatmap')\n"
   ]
  },
  {
   "cell_type": "markdown",
   "metadata": {},
   "source": [
    "### Decision Tree Model"
   ]
  },
  {
   "cell_type": "code",
   "execution_count": 26,
   "metadata": {
    "collapsed": true
   },
   "outputs": [],
   "source": [
    "tree_parameters = {'criterion': ['gini', 'entropy'],\n",
    "\t\t\t  \t  'max_depth': [2,4,6],}\n",
    "\n",
    "cv = StratifiedShuffleSplit(n_splits=10, test_size=0.2)\n",
    "tree_clf = DecisionTreeClassifier(class_weight=\"balanced\")"
   ]
  },
  {
   "cell_type": "code",
   "execution_count": 27,
   "metadata": {},
   "outputs": [
    {
     "name": "stdout",
     "output_type": "stream",
     "text": [
      "The best parameters are {'criterion': 'gini', 'max_depth': 6} with a score of 0.82\n",
      "Grid search's score on new test data was 0.819672131148\n"
     ]
    }
   ],
   "source": [
    "tree_grid = GridSearchCV(tree_clf, param_grid=tree_parameters, cv=cv)\n",
    "tree_grid.fit(x_train, y_train)\n",
    "print(\"The best parameters are %s with a score of %0.2f\" % (tree_grid.best_params_, tree_grid.best_score_))\n",
    "\n",
    "tree_grid_score = tree_grid.score(x_test, y_test)\n",
    "print \"Grid search's score on new test data was {}\".format(tree_grid_score)"
   ]
  },
  {
   "cell_type": "code",
   "execution_count": 28,
   "metadata": {
    "collapsed": true
   },
   "outputs": [],
   "source": [
    "def visualize_tree(model):\n",
    "    dotfile = open(\"tree.dot\", 'w')\n",
    "    export_graphviz(model, out_file = dotfile, feature_names = DCB_df.columns[1:5])\n",
    "    dotfile.close()\n",
    "    system(\"dot -Tpng tree.dot -o ../tree.png\")\n",
    "\n",
    "tree_clf.fit(x_train, y_train)\n",
    "visualize_tree(tree_clf)"
   ]
  },
  {
   "cell_type": "markdown",
   "metadata": {},
   "source": [
    "<img src=\"Tree.png\">"
   ]
  },
  {
   "cell_type": "code",
   "execution_count": 29,
   "metadata": {},
   "outputs": [
    {
     "data": {
      "text/html": [
       "<div>\n",
       "<style>\n",
       "    .dataframe thead tr:only-child th {\n",
       "        text-align: right;\n",
       "    }\n",
       "\n",
       "    .dataframe thead th {\n",
       "        text-align: left;\n",
       "    }\n",
       "\n",
       "    .dataframe tbody tr th {\n",
       "        vertical-align: top;\n",
       "    }\n",
       "</style>\n",
       "<table border=\"1\" class=\"dataframe\">\n",
       "  <thead>\n",
       "    <tr style=\"text-align: right;\">\n",
       "      <th></th>\n",
       "      <th>Chg_from_Hi</th>\n",
       "      <th>Chg_from_Lo</th>\n",
       "      <th>Chg_from_50davg</th>\n",
       "      <th>Short_Ratio</th>\n",
       "      <th>predicted_prob</th>\n",
       "      <th>predictions</th>\n",
       "      <th>actuals</th>\n",
       "      <th>t_predicted_prob</th>\n",
       "      <th>t_predictions</th>\n",
       "    </tr>\n",
       "  </thead>\n",
       "  <tbody>\n",
       "    <tr>\n",
       "      <th>140</th>\n",
       "      <td>-2.310000</td>\n",
       "      <td>13.270000</td>\n",
       "      <td>-0.100000</td>\n",
       "      <td>0.000000</td>\n",
       "      <td>0.008542</td>\n",
       "      <td>0</td>\n",
       "      <td>0</td>\n",
       "      <td>0.000000</td>\n",
       "      <td>0</td>\n",
       "    </tr>\n",
       "    <tr>\n",
       "      <th>61</th>\n",
       "      <td>-55.151157</td>\n",
       "      <td>60.075503</td>\n",
       "      <td>13.501665</td>\n",
       "      <td>8.382043</td>\n",
       "      <td>0.229425</td>\n",
       "      <td>0</td>\n",
       "      <td>1</td>\n",
       "      <td>0.000000</td>\n",
       "      <td>0</td>\n",
       "    </tr>\n",
       "    <tr>\n",
       "      <th>30</th>\n",
       "      <td>-86.499596</td>\n",
       "      <td>52.372263</td>\n",
       "      <td>15.721296</td>\n",
       "      <td>6.448787</td>\n",
       "      <td>0.229469</td>\n",
       "      <td>0</td>\n",
       "      <td>1</td>\n",
       "      <td>0.891720</td>\n",
       "      <td>0</td>\n",
       "    </tr>\n",
       "    <tr>\n",
       "      <th>429</th>\n",
       "      <td>-5.160000</td>\n",
       "      <td>20.020000</td>\n",
       "      <td>0.250000</td>\n",
       "      <td>13.780000</td>\n",
       "      <td>0.163676</td>\n",
       "      <td>0</td>\n",
       "      <td>0</td>\n",
       "      <td>0.147757</td>\n",
       "      <td>0</td>\n",
       "    </tr>\n",
       "    <tr>\n",
       "      <th>226</th>\n",
       "      <td>-7.340000</td>\n",
       "      <td>38.360000</td>\n",
       "      <td>-2.970000</td>\n",
       "      <td>2.150000</td>\n",
       "      <td>1.000000</td>\n",
       "      <td>1</td>\n",
       "      <td>0</td>\n",
       "      <td>0.900585</td>\n",
       "      <td>1</td>\n",
       "    </tr>\n",
       "  </tbody>\n",
       "</table>\n",
       "</div>"
      ],
      "text/plain": [
       "     Chg_from_Hi  Chg_from_Lo  Chg_from_50davg  Short_Ratio  predicted_prob  \\\n",
       "140    -2.310000    13.270000        -0.100000     0.000000        0.008542   \n",
       "61    -55.151157    60.075503        13.501665     8.382043        0.229425   \n",
       "30    -86.499596    52.372263        15.721296     6.448787        0.229469   \n",
       "429    -5.160000    20.020000         0.250000    13.780000        0.163676   \n",
       "226    -7.340000    38.360000        -2.970000     2.150000        1.000000   \n",
       "\n",
       "     predictions  actuals  t_predicted_prob  t_predictions  \n",
       "140            0        0          0.000000              0  \n",
       "61             0        1          0.000000              0  \n",
       "30             0        1          0.891720              0  \n",
       "429            0        0          0.147757              0  \n",
       "226            1        0          0.900585              1  "
      ]
     },
     "execution_count": 29,
     "metadata": {},
     "output_type": "execute_result"
    }
   ],
   "source": [
    "# Make predictions on the model\n",
    "x_testdf['t_predicted_prob'] = tree_grid.predict_proba(x_test)[:, 1]\n",
    "x_testdf['t_predictions'] = x_testdf['predicted_prob'].apply(map_predictions)\n",
    "x_testdf.head()"
   ]
  },
  {
   "cell_type": "code",
   "execution_count": 30,
   "metadata": {},
   "outputs": [
    {
     "name": "stdout",
     "output_type": "stream",
     "text": [
      "Model accuracy is 0.77868852459\n",
      "Model precision is 0.666666666667\n",
      "Model recall is 0.928571428571\n"
     ]
    }
   ],
   "source": [
    "tree_grid_score = tree_grid.score(x_test, y_test)\n",
    "tree_grid_precision = precision_score(x_testdf[\"t_predictions\"], x_testdf[\"actuals\"])\n",
    "tree_grid_recall = recall_score(x_testdf[\"t_predictions\"], x_testdf[\"actuals\"])\n",
    "\n",
    "print \"Model accuracy is {}\".format(grid_score)\n",
    "print \"Model precision is {}\".format(grid_precision)\n",
    "print \"Model recall is {}\".format(grid_recall)"
   ]
  },
  {
   "cell_type": "code",
   "execution_count": 31,
   "metadata": {},
   "outputs": [
    {
     "name": "stdout",
     "output_type": "stream",
     "text": [
      "True Negatives: 81\n",
      "False Positives: 2\n",
      "False Negatives: 13\n",
      "True Positives: 26\n"
     ]
    }
   ],
   "source": [
    "y_true = x_testdf[\"actuals\"]\n",
    "y_pred = x_testdf[\"t_predictions\"] \n",
    "matrix = confusion_matrix(y_true, y_pred)\n",
    "\n",
    "print \"True Negatives: %s\" % (matrix[0][0])\n",
    "print \"False Positives: %s\" % (matrix[0][1])\n",
    "print \"False Negatives: %s\" % (matrix[1][0])\n",
    "print \"True Positives: %s\" % (matrix[1][1])"
   ]
  },
  {
   "cell_type": "code",
   "execution_count": 32,
   "metadata": {},
   "outputs": [
    {
     "data": {
      "text/html": [
       "<iframe id=\"igraph\" scrolling=\"no\" style=\"border:none;\" seamless=\"seamless\" src=\"https://plot.ly/~kaushik.316/10.embed\" height=\"525px\" width=\"100%\"></iframe>"
      ],
      "text/plain": [
       "<plotly.tools.PlotlyDisplay object>"
      ]
     },
     "execution_count": 32,
     "metadata": {},
     "output_type": "execute_result"
    }
   ],
   "source": [
    "matrixplot = [\n",
    "    go.Heatmap(\n",
    "        z= [[matrix[1][0], matrix[1][1]],[matrix[0][0], matrix[0][1]]],\n",
    "        x=['Predicted No', 'Predicted Yes'],\n",
    "        y=['Actual Yes', 'Actual No'],\n",
    "    )\n",
    "]\n",
    "py.iplot(matrixplot, filename='labelled-heatmap', title='Decision Tree Heatmap')\n"
   ]
  }
 ],
 "metadata": {
  "kernelspec": {
   "display_name": "Python 2",
   "language": "python",
   "name": "python2"
  },
  "language_info": {
   "codemirror_mode": {
    "name": "ipython",
    "version": 2
   },
   "file_extension": ".py",
   "mimetype": "text/x-python",
   "name": "python",
   "nbconvert_exporter": "python",
   "pygments_lexer": "ipython2",
   "version": "2.7.13"
  }
 },
 "nbformat": 4,
 "nbformat_minor": 1
}
