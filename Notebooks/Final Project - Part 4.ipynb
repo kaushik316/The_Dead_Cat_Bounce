{
 "cells": [
  {
   "cell_type": "code",
   "execution_count": 73,
   "metadata": {
    "collapsed": true
   },
   "outputs": [],
   "source": [
    "import pandas as pd\n",
    "import numpy as np \n",
    "import matplotlib.pyplot as plt \n",
    "from matplotlib import style\n",
    "import statsmodels.api as sm\n",
    "import seaborn as sns\n",
    "from sklearn.tree import DecisionTreeClassifier\n",
    "from sklearn.tree import export_graphviz\n",
    "from os import system \n",
    "from sklearn.cross_validation import cross_val_score\n",
    "from sklearn.ensemble import RandomForestClassifier\n",
    "import plotly.plotly as py\n",
    "import plotly.graph_objs as go\n",
    "py.sign_in('kaushik.316', '86eaqb1c8w')\n",
    "from sklearn import linear_model\n",
    "from sklearn.metrics import confusion_matrix\n",
    "style.use('ggplot')"
   ]
  },
  {
   "cell_type": "markdown",
   "metadata": {},
   "source": [
    "### Data Retrieval"
   ]
  },
  {
   "cell_type": "markdown",
   "metadata": {},
   "source": [
    "The code written to obtain the data is in dead_cat.py and yahoo_finance.py. An abridged explanation of the process used to obtain data is written below "
   ]
  },
  {
   "cell_type": "markdown",
   "metadata": {},
   "source": [
    "I started by collecting instances of Dead Cat bounces and the date that the bounce occurred. I was able to compile a list of around 90 positives (The final number used was around 64 because some of these were not in the Quandl database).  I stored these in a dataframe along with the start date (how far back I wanted statistics for) which was always one year prior to the 'Bounce' date. \n",
    "I then made a list with the tickers of each stock. Looping through the list, I made a call to the Quandl API to obtain historical trading data for one year for each stock. The below functions make the call for each ticker (which returns about 256 rows of trading data for each stock) and then appends each one to a large csv file."
   ]
  },
  {
   "cell_type": "code",
   "execution_count": null,
   "metadata": {
    "collapsed": true
   },
   "outputs": [],
   "source": [
    "\"\"\"\n",
    "def api_call(ticker, start, end):\n",
    "    prices_df = quandl.get('WIKI/'+ticker, authtoken=api_key, start_date=start, end_date=end)\n",
    "    prices_df.index = pd.to_datetime(prices_df.index, infer_datetime_format=True)\n",
    "    prices_df['Ticker'] = ticker\n",
    "    prices_df.to_csv('trading_data.csv', mode='a', header=False)\n",
    "\n",
    "def get_DCBprices(array):\n",
    "\tfor row in array:\n",
    "\t\ttry:\n",
    "\t\t\tticker = str(row[1])\n",
    "\t\t\tstart = str(row[2].strftime(\"%Y-%m-%d\"))\n",
    "\t\t\tend = str(row[0].strftime(\"%Y-%m-%d\"))\n",
    "\t\t\tprint ticker + ' ' + start + ' ' + end\n",
    "\t\t\tapi_call(ticker, start, end)\n",
    "\t\texcept:\n",
    "\t\t\tprint \"Ticker does not exist in database\"\n",
    "\"\"\"\"\"\""
   ]
  },
  {
   "cell_type": "markdown",
   "metadata": {},
   "source": [
    "I then calculated the short interest for each stock, along with the change in closing price from high for the year, change from low for the year and the change from the 50 day moving average using the following functions."
   ]
  },
  {
   "cell_type": "code",
   "execution_count": null,
   "metadata": {
    "collapsed": true
   },
   "outputs": [],
   "source": [
    "\"\"\"\n",
    "def get_short_interest(array):\n",
    "    for row in array:\n",
    "        ticker = str(row[1])\n",
    "        if ticker in final_DCBlist:\n",
    "            try:\n",
    "            \tend = str(row[0].strftime(\"%Y-%m-%d\"))\t\t\t\n",
    "            \tshort_df = quandl.get('SI/'+ticker+'_SI', authtoken=api_key, end_date=end)\n",
    "                short_df = short_df.tail(1)\n",
    "                short_df['Ticker'] = ticker\n",
    "                short_df.index = pd.to_datetime(short_df.index, infer_datetime_format=True)\n",
    "                short_df.to_csv('shortInterest_data.csv', mode='a', header=False)\n",
    "                print ticker \n",
    "            except:\n",
    "                print ticker + \"Does not exist in database\"\n",
    "\"\"\"\n"
   ]
  },
  {
   "cell_type": "code",
   "execution_count": null,
   "metadata": {
    "collapsed": true
   },
   "outputs": [],
   "source": [
    "\"\"\"\n",
    "# Function to get the % change from Yr High, Yr Low and 50 day mean\n",
    "def get_DCBstats(df):\n",
    "\tglobal change_from_high, change_from_low, change_from_50dMean\n",
    "\tHigh = df.Close.max()\n",
    "\tcurrent_close = df.iat[-3,4]\n",
    "\tchange_from_high = (((current_close-High)/High)*100)\n",
    "\tprint change_from_high \n",
    "\n",
    "\tLow = df.Close.min()\n",
    "\tchange_from_low = (((current_close-Low)/Low)*100)\n",
    "\n",
    "\tfifty_daydf = df.tail(52)\n",
    "\tfifty_day_series = fifty_daydf.Close[0:49]\n",
    "\tMean = fifty_day_series.mean()\n",
    "\tchange_from_50dMean = (((current_close-Mean)/Mean)*100)\n",
    "\tprint change_from_50dMean\n",
    "\n",
    "\n",
    "# Calculate 30d average trading volume, need this to calculate short ratio.\n",
    "def get_avgvolume(df):\n",
    "\tglobal volume_mean\n",
    "\tvseries = df.Volume.tail(32)\n",
    "\tvolume_series = vseries[0:29]\n",
    "\tvolume_mean = volume_series.mean()\n",
    "\tprint volume_mean\n",
    "\"\"\""
   ]
  },
  {
   "cell_type": "markdown",
   "metadata": {},
   "source": [
    "After creating a consolidated csv for all the Dead cat bounce stocks with the metrics I wanted, I went about obtaining the same metrics for stocks that had not shown dead cat bounce behavior (the negatives). I created a long ticker string of over 300 stocks and got the data from Yahoo Finance."
   ]
  },
  {
   "cell_type": "code",
   "execution_count": null,
   "metadata": {
    "collapsed": true
   },
   "outputs": [],
   "source": [
    "\"\"\"\n",
    "def write_stats_toCSV(tickerstr, csvfile, codes):\n",
    "\tr = requests.get('http://finance.yahoo.com/d/quotes.csv?s='+ tickerstr + '&' +'f=' + 'codes')\n",
    "\tcsvfile.write(r.text)\n",
    "\ttesting123.close()\n",
    "\n",
    "\"\"\""
   ]
  },
  {
   "cell_type": "markdown",
   "metadata": {},
   "source": [
    "I then combined the data to create a csv file named CONSOLIDATED_DCB_DATA.csv that contained the relevant information for both Dead Cat Bounce stocks (the first 64 or so rows) and Non Dead Cat Bounce stocks (the next 360 or so rows)"
   ]
  },
  {
   "cell_type": "markdown",
   "metadata": {},
   "source": [
    "### Reading in the Data"
   ]
  },
  {
   "cell_type": "code",
   "execution_count": 74,
   "metadata": {
    "collapsed": false
   },
   "outputs": [
    {
     "data": {
      "text/plain": [
       "Ticker             425\n",
       "Chg_from_Hi        425\n",
       "Chg_from_Lo        425\n",
       "Chg_from_50davg    425\n",
       "Short_Ratio        425\n",
       "Is_Dead_Cat        425\n",
       "dtype: int64"
      ]
     },
     "execution_count": 74,
     "metadata": {},
     "output_type": "execute_result"
    }
   ],
   "source": [
    "project_df = pd.read_csv('CONSOLIDATED_DCB_DATA.csv')\n",
    "project_df = project_df.drop(project_df.columns[[0]],axis=1)\n",
    "project_df = project_df[np.isfinite(project_df['Chg_from_50davg'])]\n",
    "project_df.count()"
   ]
  },
  {
   "cell_type": "code",
   "execution_count": 75,
   "metadata": {
    "collapsed": false
   },
   "outputs": [
    {
     "data": {
      "text/html": [
       "<div>\n",
       "<table border=\"1\" class=\"dataframe\">\n",
       "  <thead>\n",
       "    <tr style=\"text-align: right;\">\n",
       "      <th></th>\n",
       "      <th>Ticker</th>\n",
       "      <th>Chg_from_Hi</th>\n",
       "      <th>Chg_from_Lo</th>\n",
       "      <th>Chg_from_50davg</th>\n",
       "      <th>Short_Ratio</th>\n",
       "      <th>Is_Dead_Cat</th>\n",
       "      <th>Intercept</th>\n",
       "    </tr>\n",
       "  </thead>\n",
       "  <tbody>\n",
       "    <tr>\n",
       "      <th>0</th>\n",
       "      <td>USCR</td>\n",
       "      <td>-7.649554</td>\n",
       "      <td>72.938921</td>\n",
       "      <td>1.453999</td>\n",
       "      <td>4.083659</td>\n",
       "      <td>1</td>\n",
       "      <td>1</td>\n",
       "    </tr>\n",
       "    <tr>\n",
       "      <th>1</th>\n",
       "      <td>SRPT</td>\n",
       "      <td>-45.872218</td>\n",
       "      <td>110.614525</td>\n",
       "      <td>23.350694</td>\n",
       "      <td>3.639042</td>\n",
       "      <td>1</td>\n",
       "      <td>1</td>\n",
       "    </tr>\n",
       "    <tr>\n",
       "      <th>2</th>\n",
       "      <td>SPWR</td>\n",
       "      <td>-49.756256</td>\n",
       "      <td>14.603410</td>\n",
       "      <td>-8.774085</td>\n",
       "      <td>7.637297</td>\n",
       "      <td>1</td>\n",
       "      <td>1</td>\n",
       "    </tr>\n",
       "    <tr>\n",
       "      <th>3</th>\n",
       "      <td>CMA</td>\n",
       "      <td>-23.008850</td>\n",
       "      <td>29.013540</td>\n",
       "      <td>-8.893328</td>\n",
       "      <td>3.340925</td>\n",
       "      <td>1</td>\n",
       "      <td>1</td>\n",
       "    </tr>\n",
       "    <tr>\n",
       "      <th>4</th>\n",
       "      <td>AKS</td>\n",
       "      <td>-8.971963</td>\n",
       "      <td>166.120219</td>\n",
       "      <td>13.191348</td>\n",
       "      <td>2.565646</td>\n",
       "      <td>1</td>\n",
       "      <td>1</td>\n",
       "    </tr>\n",
       "  </tbody>\n",
       "</table>\n",
       "</div>"
      ],
      "text/plain": [
       "  Ticker  Chg_from_Hi  Chg_from_Lo  Chg_from_50davg  Short_Ratio  Is_Dead_Cat  \\\n",
       "0   USCR    -7.649554    72.938921         1.453999     4.083659            1   \n",
       "1   SRPT   -45.872218   110.614525        23.350694     3.639042            1   \n",
       "2   SPWR   -49.756256    14.603410        -8.774085     7.637297            1   \n",
       "3    CMA   -23.008850    29.013540        -8.893328     3.340925            1   \n",
       "4    AKS    -8.971963   166.120219        13.191348     2.565646            1   \n",
       "\n",
       "   Intercept  \n",
       "0          1  \n",
       "1          1  \n",
       "2          1  \n",
       "3          1  \n",
       "4          1  "
      ]
     },
     "execution_count": 75,
     "metadata": {},
     "output_type": "execute_result"
    }
   ],
   "source": [
    "# Statsmodels requires the creation of an intercept\n",
    "project_df['Intercept'] = 1\n",
    "project_df.head()\n"
   ]
  },
  {
   "cell_type": "markdown",
   "metadata": {},
   "source": [
    "### Visualizations"
   ]
  },
  {
   "cell_type": "code",
   "execution_count": 76,
   "metadata": {
    "collapsed": true
   },
   "outputs": [],
   "source": [
    "DCB_df = project_df[project_df['Is_Dead_Cat']==1]\n",
    "nonDCB_df = project_df[project_df['Is_Dead_Cat']==0]"
   ]
  },
  {
   "cell_type": "markdown",
   "metadata": {},
   "source": [
    "#### Distribution"
   ]
  },
  {
   "cell_type": "code",
   "execution_count": 77,
   "metadata": {
    "collapsed": false
   },
   "outputs": [
    {
     "data": {
      "text/html": [
       "<iframe id=\"igraph\" scrolling=\"no\" style=\"border:none;\" seamless=\"seamless\" src=\"https://plot.ly/~kaushik.316/6.embed\" height=\"525px\" width=\"100%\"></iframe>"
      ],
      "text/plain": [
       "<plotly.tools.PlotlyDisplay object>"
      ]
     },
     "execution_count": 77,
     "metadata": {},
     "output_type": "execute_result"
    }
   ],
   "source": [
    "from plotly.tools import FigureFactory as FF\n",
    "\n",
    "x1 = DCB_df['Chg_from_Hi']\n",
    "x2 = DCB_df['Chg_from_Lo'] \n",
    "x3 = DCB_df['Chg_from_50davg']\n",
    "x4 = DCB_df['Short_Ratio']\n",
    "\n",
    "hist_data = [x1,x2,x3,x4]\n",
    "group_labels = ['Chg_from_Hi','Chg_from_Lo','Chg_from_50davg','Short_Ratio']\n",
    "#fig = FF.create_distplot(hist_data, group_labels, bin_size=.2)\n",
    "fig = FF.create_distplot(hist_data, group_labels, show_hist=False)\n",
    "\n",
    "py.iplot(fig, filename='DCB Distplot with Multiple Datasets', validate=False)"
   ]
  },
  {
   "cell_type": "markdown",
   "metadata": {},
   "source": [
    "#### Mean Comparison"
   ]
  },
  {
   "cell_type": "code",
   "execution_count": 78,
   "metadata": {
    "collapsed": false
   },
   "outputs": [
    {
     "data": {
      "text/html": [
       "<iframe id=\"igraph\" scrolling=\"no\" style=\"border:none;\" seamless=\"seamless\" src=\"https://plot.ly/~kaushik.316/8.embed\" height=\"525px\" width=\"100%\"></iframe>"
      ],
      "text/plain": [
       "<plotly.tools.PlotlyDisplay object>"
      ]
     },
     "execution_count": 78,
     "metadata": {},
     "output_type": "execute_result"
    }
   ],
   "source": [
    "mean_cols = ['Chg_from_Hi','Chg_from_Lo','Chg_from_50davg','Short_Ratio']\n",
    "DCB_means = DCB_df[mean_cols].mean()\n",
    "nonDCB_means = nonDCB_df[mean_cols].mean()\n",
    "\n",
    "x1 = go.Bar(\n",
    "    x= mean_cols,\n",
    "    y=DCB_means,\n",
    "    name='DCB Stocks'\n",
    ")\n",
    "\n",
    "x2 = go.Bar(\n",
    "    x=mean_cols,\n",
    "    y=nonDCB_means,\n",
    "    name='nonDCB stocks'\n",
    ")\n",
    "\n",
    "data = [x1,x2]\n",
    "layout = go.Layout(\n",
    "    barmode='group'\n",
    ")\n",
    "\n",
    "fig = go.Figure(data=data, layout=layout)\n",
    "py.iplot(fig, filename='DCB mean grouped-bar', title=\"Averages\")"
   ]
  },
  {
   "cell_type": "markdown",
   "metadata": {},
   "source": [
    "#### Median Comparison"
   ]
  },
  {
   "cell_type": "code",
   "execution_count": 79,
   "metadata": {
    "collapsed": false
   },
   "outputs": [
    {
     "data": {
      "text/html": [
       "<iframe id=\"igraph\" scrolling=\"no\" style=\"border:none;\" seamless=\"seamless\" src=\"https://plot.ly/~kaushik.316/4.embed\" height=\"525px\" width=\"100%\"></iframe>"
      ],
      "text/plain": [
       "<plotly.tools.PlotlyDisplay object>"
      ]
     },
     "execution_count": 79,
     "metadata": {},
     "output_type": "execute_result"
    }
   ],
   "source": [
    "median_cols = ['Chg_from_Hi','Chg_from_Lo','Chg_from_50davg','Short_Ratio']\n",
    "DCB_medians = DCB_df[median_cols].median()\n",
    "nonDCB_medians = nonDCB_df[median_cols].median()\n",
    "\n",
    "m1 = go.Bar(\n",
    "    x= median_cols,\n",
    "    y=DCB_medians,\n",
    "    name='nonDCB Stocks'\n",
    ")\n",
    "\n",
    "m2 = go.Bar(\n",
    "    x=median_cols,\n",
    "    y=nonDCB_medians,\n",
    "    name='nonDCB stocks'\n",
    ")\n",
    "\n",
    "data = [m1,m2]\n",
    "layout = go.Layout(\n",
    "    barmode='group'\n",
    ")\n",
    "\n",
    "fig = go.Figure(data=data, layout=layout)\n",
    "py.iplot(fig, filename='DCB median grouped-bar')"
   ]
  },
  {
   "cell_type": "markdown",
   "metadata": {},
   "source": [
    "### Creating the Training and Test Dataset"
   ]
  },
  {
   "cell_type": "markdown",
   "metadata": {},
   "source": [
    " I used approximately 70% of the data as the training dataset, consisting of almost 300 values of which 39 were DCB stocks. The test dataset contained about 127 values of which 23 were DCB stocks"
   ]
  },
  {
   "cell_type": "markdown",
   "metadata": {},
   "source": [
    "#### Training Dataset"
   ]
  },
  {
   "cell_type": "code",
   "execution_count": 80,
   "metadata": {
    "collapsed": false
   },
   "outputs": [
    {
     "data": {
      "text/plain": [
       "Ticker             298\n",
       "Chg_from_Hi        298\n",
       "Chg_from_Lo        298\n",
       "Chg_from_50davg    298\n",
       "Short_Ratio        298\n",
       "Is_Dead_Cat        298\n",
       "Intercept          298\n",
       "dtype: int64"
      ]
     },
     "execution_count": 80,
     "metadata": {},
     "output_type": "execute_result"
    }
   ],
   "source": [
    "train_positives = project_df.iloc[0:39,:]\n",
    "train_negatives = project_df[project_df['Is_Dead_Cat']==0].iloc[0:259,:]\n",
    "df_train = train_positives.append(train_negatives, ignore_index=True)\n",
    "df_train.count()"
   ]
  },
  {
   "cell_type": "code",
   "execution_count": 81,
   "metadata": {
    "collapsed": false
   },
   "outputs": [
    {
     "data": {
      "text/plain": [
       "0    259\n",
       "1     39\n",
       "Name: Is_Dead_Cat, dtype: int64"
      ]
     },
     "execution_count": 81,
     "metadata": {},
     "output_type": "execute_result"
    }
   ],
   "source": [
    "df_train['Is_Dead_Cat'].value_counts()"
   ]
  },
  {
   "cell_type": "markdown",
   "metadata": {},
   "source": [
    "#### Test Dataset"
   ]
  },
  {
   "cell_type": "code",
   "execution_count": 82,
   "metadata": {
    "collapsed": false
   },
   "outputs": [
    {
     "data": {
      "text/plain": [
       "Ticker             127\n",
       "Chg_from_Hi        127\n",
       "Chg_from_Lo        127\n",
       "Chg_from_50davg    127\n",
       "Short_Ratio        127\n",
       "Is_Dead_Cat        127\n",
       "Intercept          127\n",
       "dtype: int64"
      ]
     },
     "execution_count": 82,
     "metadata": {},
     "output_type": "execute_result"
    }
   ],
   "source": [
    "test_positives = project_df.iloc[39:62]\n",
    "test_negatives = project_df[project_df['Is_Dead_Cat']==0].iloc[259:,:]\n",
    "df_test = test_positives.append(test_negatives, ignore_index=True)\n",
    "df_test.count()"
   ]
  },
  {
   "cell_type": "code",
   "execution_count": 83,
   "metadata": {
    "collapsed": false
   },
   "outputs": [
    {
     "data": {
      "text/plain": [
       "0    104\n",
       "1     23\n",
       "Name: Is_Dead_Cat, dtype: int64"
      ]
     },
     "execution_count": 83,
     "metadata": {},
     "output_type": "execute_result"
    }
   ],
   "source": [
    "df_test['Is_Dead_Cat'].value_counts()"
   ]
  },
  {
   "cell_type": "markdown",
   "metadata": {},
   "source": [
    "### Logistic Regression Model (StatsModels)"
   ]
  },
  {
   "cell_type": "code",
   "execution_count": 84,
   "metadata": {
    "collapsed": true
   },
   "outputs": [],
   "source": [
    "x_cols = ['Chg_from_Hi','Chg_from_Lo','Chg_from_50davg','Short_Ratio','Intercept']\n",
    "x_train = df_train[x_cols]\n",
    "y_train = df_train['Is_Dead_Cat']"
   ]
  },
  {
   "cell_type": "code",
   "execution_count": 85,
   "metadata": {
    "collapsed": false
   },
   "outputs": [
    {
     "name": "stdout",
     "output_type": "stream",
     "text": [
      "Optimization terminated successfully.\n",
      "         Current function value: 0.334720\n",
      "         Iterations 7\n",
      "                           Logit Regression Results                           \n",
      "==============================================================================\n",
      "Dep. Variable:            Is_Dead_Cat   No. Observations:                  298\n",
      "Model:                          Logit   Df Residuals:                      293\n",
      "Method:                           MLE   Df Model:                            4\n",
      "Date:                Thu, 11 Aug 2016   Pseudo R-squ.:                  0.1374\n",
      "Time:                        20:48:42   Log-Likelihood:                -99.746\n",
      "converged:                       True   LL-Null:                       -115.64\n",
      "                                        LLR p-value:                 2.122e-06\n",
      "===================================================================================\n",
      "                      coef    std err          z      P>|z|      [95.0% Conf. Int.]\n",
      "-----------------------------------------------------------------------------------\n",
      "Chg_from_Hi        -0.0258      0.007     -3.701      0.000        -0.039    -0.012\n",
      "Chg_from_Lo         0.0011      0.002      0.621      0.534        -0.002     0.004\n",
      "Chg_from_50davg    -0.0376      0.018     -2.120      0.034        -0.072    -0.003\n",
      "Short_Ratio         0.0330      0.029      1.136      0.256        -0.024     0.090\n",
      "Intercept          -2.9367      0.356     -8.250      0.000        -3.634    -2.239\n",
      "===================================================================================\n"
     ]
    }
   ],
   "source": [
    "logit = sm.Logit(y_train, x_train)\n",
    "DCB_model = logit.fit()\n",
    "print DCB_model.summary()"
   ]
  },
  {
   "cell_type": "code",
   "execution_count": 86,
   "metadata": {
    "collapsed": false
   },
   "outputs": [
    {
     "data": {
      "text/html": [
       "<div>\n",
       "<table border=\"1\" class=\"dataframe\">\n",
       "  <thead>\n",
       "    <tr style=\"text-align: right;\">\n",
       "      <th></th>\n",
       "      <th>Ticker</th>\n",
       "      <th>Chg_from_Hi</th>\n",
       "      <th>Chg_from_Lo</th>\n",
       "      <th>Chg_from_50davg</th>\n",
       "      <th>Short_Ratio</th>\n",
       "      <th>Is_Dead_Cat</th>\n",
       "      <th>Intercept</th>\n",
       "      <th>DCB_Prob</th>\n",
       "    </tr>\n",
       "  </thead>\n",
       "  <tbody>\n",
       "    <tr>\n",
       "      <th>0</th>\n",
       "      <td>GERN</td>\n",
       "      <td>-11.520737</td>\n",
       "      <td>107.567568</td>\n",
       "      <td>-2.431942</td>\n",
       "      <td>11.027120</td>\n",
       "      <td>1</td>\n",
       "      <td>1</td>\n",
       "      <td>0.111950</td>\n",
       "    </tr>\n",
       "    <tr>\n",
       "      <th>1</th>\n",
       "      <td>SM</td>\n",
       "      <td>-76.817489</td>\n",
       "      <td>36.936937</td>\n",
       "      <td>-46.337051</td>\n",
       "      <td>6.238982</td>\n",
       "      <td>1</td>\n",
       "      <td>1</td>\n",
       "      <td>0.737415</td>\n",
       "    </tr>\n",
       "    <tr>\n",
       "      <th>2</th>\n",
       "      <td>GLNG</td>\n",
       "      <td>-29.862069</td>\n",
       "      <td>79.301834</td>\n",
       "      <td>14.257349</td>\n",
       "      <td>5.214547</td>\n",
       "      <td>1</td>\n",
       "      <td>1</td>\n",
       "      <td>0.079744</td>\n",
       "    </tr>\n",
       "    <tr>\n",
       "      <th>3</th>\n",
       "      <td>CLF</td>\n",
       "      <td>-72.387239</td>\n",
       "      <td>16.744186</td>\n",
       "      <td>-8.482774</td>\n",
       "      <td>8.084908</td>\n",
       "      <td>1</td>\n",
       "      <td>1</td>\n",
       "      <td>0.385894</td>\n",
       "    </tr>\n",
       "    <tr>\n",
       "      <th>4</th>\n",
       "      <td>SAIA</td>\n",
       "      <td>-14.505572</td>\n",
       "      <td>60.564784</td>\n",
       "      <td>-9.375586</td>\n",
       "      <td>2.542879</td>\n",
       "      <td>1</td>\n",
       "      <td>1</td>\n",
       "      <td>0.112825</td>\n",
       "    </tr>\n",
       "  </tbody>\n",
       "</table>\n",
       "</div>"
      ],
      "text/plain": [
       "  Ticker  Chg_from_Hi  Chg_from_Lo  Chg_from_50davg  Short_Ratio  Is_Dead_Cat  \\\n",
       "0   GERN   -11.520737   107.567568        -2.431942    11.027120            1   \n",
       "1     SM   -76.817489    36.936937       -46.337051     6.238982            1   \n",
       "2   GLNG   -29.862069    79.301834        14.257349     5.214547            1   \n",
       "3    CLF   -72.387239    16.744186        -8.482774     8.084908            1   \n",
       "4   SAIA   -14.505572    60.564784        -9.375586     2.542879            1   \n",
       "\n",
       "   Intercept  DCB_Prob  \n",
       "0          1  0.111950  \n",
       "1          1  0.737415  \n",
       "2          1  0.079744  \n",
       "3          1  0.385894  \n",
       "4          1  0.112825  "
      ]
     },
     "execution_count": 86,
     "metadata": {},
     "output_type": "execute_result"
    }
   ],
   "source": [
    "# Make predictions on the model\n",
    "x_test = df_test[x_cols]\n",
    "df_test['DCB_Prob'] = DCB_model.predict(x_test)\n",
    "df_test.head()"
   ]
  },
  {
   "cell_type": "code",
   "execution_count": 87,
   "metadata": {
    "collapsed": true
   },
   "outputs": [],
   "source": [
    "# Create a threshold function to classify as DCB or non DCB\n",
    "# Keep threshold low to minimize false negatives rather than minimizing false positives.\n",
    "\"\"\"Model or dataset needs to be adjusted to account for the low probability of Dead Cat Bounce stocks occurring\n",
    "in real life\"\"\"\n",
    "\n",
    "def binary_predictor(x):\n",
    "    if x > 0.1:\n",
    "        return int(1)\n",
    "    else:\n",
    "        return int(0)"
   ]
  },
  {
   "cell_type": "markdown",
   "metadata": {},
   "source": [
    "If we use a higher threshold and obtain a more accurate model overall but this would increase the number of false negatives (predicting a DCB stock is not a DCB). Given the small sample size of DCB stocks relative to the overall size of the sample, it's more important to minimize false negatives."
   ]
  },
  {
   "cell_type": "markdown",
   "metadata": {},
   "source": [
    "#### Accuracy measure"
   ]
  },
  {
   "cell_type": "markdown",
   "metadata": {},
   "source": [
    "To calculate the accuracy of the model I mapped a value into the \"Check\" column based on the predicted value generated by the model ( a 1 or 0 for each stock). If the prediction matched the classification in the \"Is_Dead_Cat\" then the value in \"Check\" for that row would be True. Counting the percentage of True vs False values gives us the accuracy oof the model. "
   ]
  },
  {
   "cell_type": "code",
   "execution_count": 88,
   "metadata": {
    "collapsed": false
   },
   "outputs": [
    {
     "name": "stdout",
     "output_type": "stream",
     "text": [
      "True     0.677165\n",
      "False    0.322835\n",
      "Name: Check, dtype: float64\n"
     ]
    }
   ],
   "source": [
    "# I classify each stock as a 1 or 0 and then see if that value matches with the value in the Is_Dead_Cat column\n",
    "df_test['Log_Prediction'] = df_test.DCB_Prob.map(binary_predictor)\n",
    "df_test['Check'] = df_test.Log_Prediction == df_test.Is_Dead_Cat\n",
    "print df_test['Check'].value_counts(True)"
   ]
  },
  {
   "cell_type": "markdown",
   "metadata": {},
   "source": [
    "Looks like the model predicts whether a stock is a dead cat or not correctly 68% of the time."
   ]
  },
  {
   "cell_type": "code",
   "execution_count": 102,
   "metadata": {
    "collapsed": false
   },
   "outputs": [
    {
     "data": {
      "text/html": [
       "<div>\n",
       "<table border=\"1\" class=\"dataframe\">\n",
       "  <thead>\n",
       "    <tr style=\"text-align: right;\">\n",
       "      <th></th>\n",
       "      <th>Ticker</th>\n",
       "      <th>Chg_from_Hi</th>\n",
       "      <th>Chg_from_Lo</th>\n",
       "      <th>Chg_from_50davg</th>\n",
       "      <th>Short_Ratio</th>\n",
       "      <th>Is_Dead_Cat</th>\n",
       "      <th>Intercept</th>\n",
       "      <th>DCB_Prob</th>\n",
       "      <th>Log_Prediction</th>\n",
       "      <th>Check</th>\n",
       "    </tr>\n",
       "  </thead>\n",
       "  <tbody>\n",
       "    <tr>\n",
       "      <th>0</th>\n",
       "      <td>GERN</td>\n",
       "      <td>-11.520737</td>\n",
       "      <td>107.567568</td>\n",
       "      <td>-2.431942</td>\n",
       "      <td>11.027120</td>\n",
       "      <td>1</td>\n",
       "      <td>1</td>\n",
       "      <td>0.111950</td>\n",
       "      <td>1</td>\n",
       "      <td>True</td>\n",
       "    </tr>\n",
       "    <tr>\n",
       "      <th>1</th>\n",
       "      <td>SM</td>\n",
       "      <td>-76.817489</td>\n",
       "      <td>36.936937</td>\n",
       "      <td>-46.337051</td>\n",
       "      <td>6.238982</td>\n",
       "      <td>1</td>\n",
       "      <td>1</td>\n",
       "      <td>0.737415</td>\n",
       "      <td>1</td>\n",
       "      <td>True</td>\n",
       "    </tr>\n",
       "    <tr>\n",
       "      <th>2</th>\n",
       "      <td>GLNG</td>\n",
       "      <td>-29.862069</td>\n",
       "      <td>79.301834</td>\n",
       "      <td>14.257349</td>\n",
       "      <td>5.214547</td>\n",
       "      <td>1</td>\n",
       "      <td>1</td>\n",
       "      <td>0.079744</td>\n",
       "      <td>0</td>\n",
       "      <td>False</td>\n",
       "    </tr>\n",
       "    <tr>\n",
       "      <th>3</th>\n",
       "      <td>CLF</td>\n",
       "      <td>-72.387239</td>\n",
       "      <td>16.744186</td>\n",
       "      <td>-8.482774</td>\n",
       "      <td>8.084908</td>\n",
       "      <td>1</td>\n",
       "      <td>1</td>\n",
       "      <td>0.385894</td>\n",
       "      <td>1</td>\n",
       "      <td>True</td>\n",
       "    </tr>\n",
       "    <tr>\n",
       "      <th>4</th>\n",
       "      <td>SAIA</td>\n",
       "      <td>-14.505572</td>\n",
       "      <td>60.564784</td>\n",
       "      <td>-9.375586</td>\n",
       "      <td>2.542879</td>\n",
       "      <td>1</td>\n",
       "      <td>1</td>\n",
       "      <td>0.112825</td>\n",
       "      <td>1</td>\n",
       "      <td>True</td>\n",
       "    </tr>\n",
       "    <tr>\n",
       "      <th>5</th>\n",
       "      <td>SN</td>\n",
       "      <td>-18.683652</td>\n",
       "      <td>234.497817</td>\n",
       "      <td>-6.188453</td>\n",
       "      <td>3.557872</td>\n",
       "      <td>1</td>\n",
       "      <td>1</td>\n",
       "      <td>0.135022</td>\n",
       "      <td>1</td>\n",
       "      <td>True</td>\n",
       "    </tr>\n",
       "    <tr>\n",
       "      <th>6</th>\n",
       "      <td>HOS</td>\n",
       "      <td>-54.241262</td>\n",
       "      <td>9.933436</td>\n",
       "      <td>-12.974100</td>\n",
       "      <td>6.098567</td>\n",
       "      <td>1</td>\n",
       "      <td>1</td>\n",
       "      <td>0.302150</td>\n",
       "      <td>1</td>\n",
       "      <td>True</td>\n",
       "    </tr>\n",
       "    <tr>\n",
       "      <th>7</th>\n",
       "      <td>OPK</td>\n",
       "      <td>-1.796407</td>\n",
       "      <td>84.269663</td>\n",
       "      <td>11.994797</td>\n",
       "      <td>12.536319</td>\n",
       "      <td>1</td>\n",
       "      <td>1</td>\n",
       "      <td>0.055254</td>\n",
       "      <td>0</td>\n",
       "      <td>False</td>\n",
       "    </tr>\n",
       "    <tr>\n",
       "      <th>8</th>\n",
       "      <td>CCOI</td>\n",
       "      <td>-11.080471</td>\n",
       "      <td>19.186828</td>\n",
       "      <td>0.784575</td>\n",
       "      <td>7.103883</td>\n",
       "      <td>1</td>\n",
       "      <td>1</td>\n",
       "      <td>0.081235</td>\n",
       "      <td>0</td>\n",
       "      <td>False</td>\n",
       "    </tr>\n",
       "    <tr>\n",
       "      <th>9</th>\n",
       "      <td>CUDA</td>\n",
       "      <td>0.000000</td>\n",
       "      <td>91.607811</td>\n",
       "      <td>15.939442</td>\n",
       "      <td>2.219147</td>\n",
       "      <td>1</td>\n",
       "      <td>1</td>\n",
       "      <td>0.033378</td>\n",
       "      <td>0</td>\n",
       "      <td>False</td>\n",
       "    </tr>\n",
       "    <tr>\n",
       "      <th>10</th>\n",
       "      <td>CENX</td>\n",
       "      <td>-56.479100</td>\n",
       "      <td>5.003879</td>\n",
       "      <td>-7.746503</td>\n",
       "      <td>5.103226</td>\n",
       "      <td>1</td>\n",
       "      <td>1</td>\n",
       "      <td>0.266253</td>\n",
       "      <td>1</td>\n",
       "      <td>True</td>\n",
       "    </tr>\n",
       "    <tr>\n",
       "      <th>11</th>\n",
       "      <td>MRO</td>\n",
       "      <td>-64.636101</td>\n",
       "      <td>63.893016</td>\n",
       "      <td>19.280087</td>\n",
       "      <td>1.792992</td>\n",
       "      <td>1</td>\n",
       "      <td>1</td>\n",
       "      <td>0.134050</td>\n",
       "      <td>1</td>\n",
       "      <td>True</td>\n",
       "    </tr>\n",
       "    <tr>\n",
       "      <th>12</th>\n",
       "      <td>MKTO</td>\n",
       "      <td>-36.555755</td>\n",
       "      <td>26.263982</td>\n",
       "      <td>8.006905</td>\n",
       "      <td>8.031326</td>\n",
       "      <td>1</td>\n",
       "      <td>1</td>\n",
       "      <td>0.119078</td>\n",
       "      <td>1</td>\n",
       "      <td>True</td>\n",
       "    </tr>\n",
       "    <tr>\n",
       "      <th>13</th>\n",
       "      <td>HZNP</td>\n",
       "      <td>-7.433071</td>\n",
       "      <td>255.595886</td>\n",
       "      <td>14.952236</td>\n",
       "      <td>1.885958</td>\n",
       "      <td>1</td>\n",
       "      <td>1</td>\n",
       "      <td>0.048568</td>\n",
       "      <td>0</td>\n",
       "      <td>False</td>\n",
       "    </tr>\n",
       "    <tr>\n",
       "      <th>14</th>\n",
       "      <td>IRBT</td>\n",
       "      <td>-29.819939</td>\n",
       "      <td>9.639794</td>\n",
       "      <td>-6.895004</td>\n",
       "      <td>12.738451</td>\n",
       "      <td>1</td>\n",
       "      <td>1</td>\n",
       "      <td>0.185795</td>\n",
       "      <td>1</td>\n",
       "      <td>True</td>\n",
       "    </tr>\n",
       "    <tr>\n",
       "      <th>15</th>\n",
       "      <td>REXX</td>\n",
       "      <td>-85.302326</td>\n",
       "      <td>26.400000</td>\n",
       "      <td>-46.007392</td>\n",
       "      <td>3.601929</td>\n",
       "      <td>1</td>\n",
       "      <td>1</td>\n",
       "      <td>0.757912</td>\n",
       "      <td>1</td>\n",
       "      <td>True</td>\n",
       "    </tr>\n",
       "    <tr>\n",
       "      <th>16</th>\n",
       "      <td>GLUU</td>\n",
       "      <td>-6.425703</td>\n",
       "      <td>108.035714</td>\n",
       "      <td>36.760566</td>\n",
       "      <td>4.173813</td>\n",
       "      <td>1</td>\n",
       "      <td>1</td>\n",
       "      <td>0.019829</td>\n",
       "      <td>0</td>\n",
       "      <td>False</td>\n",
       "    </tr>\n",
       "    <tr>\n",
       "      <th>17</th>\n",
       "      <td>RATE</td>\n",
       "      <td>-40.105668</td>\n",
       "      <td>29.089027</td>\n",
       "      <td>-0.132388</td>\n",
       "      <td>13.832171</td>\n",
       "      <td>1</td>\n",
       "      <td>1</td>\n",
       "      <td>0.196311</td>\n",
       "      <td>1</td>\n",
       "      <td>True</td>\n",
       "    </tr>\n",
       "    <tr>\n",
       "      <th>18</th>\n",
       "      <td>COP</td>\n",
       "      <td>-29.702003</td>\n",
       "      <td>35.414053</td>\n",
       "      <td>-3.690601</td>\n",
       "      <td>2.538788</td>\n",
       "      <td>1</td>\n",
       "      <td>1</td>\n",
       "      <td>0.128976</td>\n",
       "      <td>1</td>\n",
       "      <td>True</td>\n",
       "    </tr>\n",
       "    <tr>\n",
       "      <th>19</th>\n",
       "      <td>DWRE</td>\n",
       "      <td>-59.290630</td>\n",
       "      <td>9.661319</td>\n",
       "      <td>-35.799293</td>\n",
       "      <td>11.466969</td>\n",
       "      <td>1</td>\n",
       "      <td>1</td>\n",
       "      <td>0.581178</td>\n",
       "      <td>1</td>\n",
       "      <td>True</td>\n",
       "    </tr>\n",
       "    <tr>\n",
       "      <th>20</th>\n",
       "      <td>TSLA</td>\n",
       "      <td>-19.158160</td>\n",
       "      <td>24.994595</td>\n",
       "      <td>-11.149803</td>\n",
       "      <td>6.060285</td>\n",
       "      <td>1</td>\n",
       "      <td>1</td>\n",
       "      <td>0.142223</td>\n",
       "      <td>1</td>\n",
       "      <td>True</td>\n",
       "    </tr>\n",
       "    <tr>\n",
       "      <th>21</th>\n",
       "      <td>WPX</td>\n",
       "      <td>-27.823485</td>\n",
       "      <td>171.067416</td>\n",
       "      <td>5.956036</td>\n",
       "      <td>3.285714</td>\n",
       "      <td>1</td>\n",
       "      <td>1</td>\n",
       "      <td>0.104014</td>\n",
       "      <td>1</td>\n",
       "      <td>True</td>\n",
       "    </tr>\n",
       "  </tbody>\n",
       "</table>\n",
       "</div>"
      ],
      "text/plain": [
       "   Ticker  Chg_from_Hi  Chg_from_Lo  Chg_from_50davg  Short_Ratio  \\\n",
       "0    GERN   -11.520737   107.567568        -2.431942    11.027120   \n",
       "1      SM   -76.817489    36.936937       -46.337051     6.238982   \n",
       "2    GLNG   -29.862069    79.301834        14.257349     5.214547   \n",
       "3     CLF   -72.387239    16.744186        -8.482774     8.084908   \n",
       "4    SAIA   -14.505572    60.564784        -9.375586     2.542879   \n",
       "5      SN   -18.683652   234.497817        -6.188453     3.557872   \n",
       "6     HOS   -54.241262     9.933436       -12.974100     6.098567   \n",
       "7     OPK    -1.796407    84.269663        11.994797    12.536319   \n",
       "8    CCOI   -11.080471    19.186828         0.784575     7.103883   \n",
       "9    CUDA     0.000000    91.607811        15.939442     2.219147   \n",
       "10   CENX   -56.479100     5.003879        -7.746503     5.103226   \n",
       "11    MRO   -64.636101    63.893016        19.280087     1.792992   \n",
       "12   MKTO   -36.555755    26.263982         8.006905     8.031326   \n",
       "13   HZNP    -7.433071   255.595886        14.952236     1.885958   \n",
       "14   IRBT   -29.819939     9.639794        -6.895004    12.738451   \n",
       "15   REXX   -85.302326    26.400000       -46.007392     3.601929   \n",
       "16   GLUU    -6.425703   108.035714        36.760566     4.173813   \n",
       "17   RATE   -40.105668    29.089027        -0.132388    13.832171   \n",
       "18    COP   -29.702003    35.414053        -3.690601     2.538788   \n",
       "19   DWRE   -59.290630     9.661319       -35.799293    11.466969   \n",
       "20   TSLA   -19.158160    24.994595       -11.149803     6.060285   \n",
       "21    WPX   -27.823485   171.067416         5.956036     3.285714   \n",
       "\n",
       "    Is_Dead_Cat  Intercept  DCB_Prob  Log_Prediction  Check  \n",
       "0             1          1  0.111950               1   True  \n",
       "1             1          1  0.737415               1   True  \n",
       "2             1          1  0.079744               0  False  \n",
       "3             1          1  0.385894               1   True  \n",
       "4             1          1  0.112825               1   True  \n",
       "5             1          1  0.135022               1   True  \n",
       "6             1          1  0.302150               1   True  \n",
       "7             1          1  0.055254               0  False  \n",
       "8             1          1  0.081235               0  False  \n",
       "9             1          1  0.033378               0  False  \n",
       "10            1          1  0.266253               1   True  \n",
       "11            1          1  0.134050               1   True  \n",
       "12            1          1  0.119078               1   True  \n",
       "13            1          1  0.048568               0  False  \n",
       "14            1          1  0.185795               1   True  \n",
       "15            1          1  0.757912               1   True  \n",
       "16            1          1  0.019829               0  False  \n",
       "17            1          1  0.196311               1   True  \n",
       "18            1          1  0.128976               1   True  \n",
       "19            1          1  0.581178               1   True  \n",
       "20            1          1  0.142223               1   True  \n",
       "21            1          1  0.104014               1   True  "
      ]
     },
     "execution_count": 102,
     "metadata": {},
     "output_type": "execute_result"
    }
   ],
   "source": [
    "# Check shows accuracy for all DCB stocks\n",
    "df_test.head(22)"
   ]
  },
  {
   "cell_type": "code",
   "execution_count": 90,
   "metadata": {
    "collapsed": false
   },
   "outputs": [
    {
     "data": {
      "text/html": [
       "<div>\n",
       "<table border=\"1\" class=\"dataframe\">\n",
       "  <thead>\n",
       "    <tr style=\"text-align: right;\">\n",
       "      <th></th>\n",
       "      <th>Ticker</th>\n",
       "      <th>Chg_from_Hi</th>\n",
       "      <th>Chg_from_Lo</th>\n",
       "      <th>Chg_from_50davg</th>\n",
       "      <th>Short_Ratio</th>\n",
       "      <th>Is_Dead_Cat</th>\n",
       "      <th>Intercept</th>\n",
       "      <th>DCB_Prob</th>\n",
       "      <th>Log_Prediction</th>\n",
       "      <th>Check</th>\n",
       "    </tr>\n",
       "  </thead>\n",
       "  <tbody>\n",
       "    <tr>\n",
       "      <th>122</th>\n",
       "      <td>BOKF</td>\n",
       "      <td>-13.23</td>\n",
       "      <td>47.81</td>\n",
       "      <td>4.69</td>\n",
       "      <td>13.55</td>\n",
       "      <td>0</td>\n",
       "      <td>1</td>\n",
       "      <td>0.093276</td>\n",
       "      <td>0</td>\n",
       "      <td>True</td>\n",
       "    </tr>\n",
       "    <tr>\n",
       "      <th>123</th>\n",
       "      <td>AKP</td>\n",
       "      <td>-0.89</td>\n",
       "      <td>18.31</td>\n",
       "      <td>0.91</td>\n",
       "      <td>0.00</td>\n",
       "      <td>0</td>\n",
       "      <td>1</td>\n",
       "      <td>0.050757</td>\n",
       "      <td>0</td>\n",
       "      <td>True</td>\n",
       "    </tr>\n",
       "    <tr>\n",
       "      <th>124</th>\n",
       "      <td>CTS</td>\n",
       "      <td>-5.63</td>\n",
       "      <td>48.48</td>\n",
       "      <td>4.19</td>\n",
       "      <td>8.40</td>\n",
       "      <td>0</td>\n",
       "      <td>1</td>\n",
       "      <td>0.067812</td>\n",
       "      <td>0</td>\n",
       "      <td>True</td>\n",
       "    </tr>\n",
       "    <tr>\n",
       "      <th>125</th>\n",
       "      <td>ACRX</td>\n",
       "      <td>-38.27</td>\n",
       "      <td>51.25</td>\n",
       "      <td>24.35</td>\n",
       "      <td>8.86</td>\n",
       "      <td>0</td>\n",
       "      <td>1</td>\n",
       "      <td>0.074651</td>\n",
       "      <td>0</td>\n",
       "      <td>True</td>\n",
       "    </tr>\n",
       "    <tr>\n",
       "      <th>126</th>\n",
       "      <td>DSPG</td>\n",
       "      <td>-1.63</td>\n",
       "      <td>37.26</td>\n",
       "      <td>4.17</td>\n",
       "      <td>5.46</td>\n",
       "      <td>0</td>\n",
       "      <td>1</td>\n",
       "      <td>0.055616</td>\n",
       "      <td>0</td>\n",
       "      <td>True</td>\n",
       "    </tr>\n",
       "  </tbody>\n",
       "</table>\n",
       "</div>"
      ],
      "text/plain": [
       "    Ticker  Chg_from_Hi  Chg_from_Lo  Chg_from_50davg  Short_Ratio  \\\n",
       "122   BOKF       -13.23        47.81             4.69        13.55   \n",
       "123    AKP        -0.89        18.31             0.91         0.00   \n",
       "124    CTS        -5.63        48.48             4.19         8.40   \n",
       "125   ACRX       -38.27        51.25            24.35         8.86   \n",
       "126   DSPG        -1.63        37.26             4.17         5.46   \n",
       "\n",
       "     Is_Dead_Cat  Intercept  DCB_Prob  Log_Prediction Check  \n",
       "122            0          1  0.093276               0  True  \n",
       "123            0          1  0.050757               0  True  \n",
       "124            0          1  0.067812               0  True  \n",
       "125            0          1  0.074651               0  True  \n",
       "126            0          1  0.055616               0  True  "
      ]
     },
     "execution_count": 90,
     "metadata": {},
     "output_type": "execute_result"
    }
   ],
   "source": [
    "df_test.tail()"
   ]
  },
  {
   "cell_type": "markdown",
   "metadata": {},
   "source": [
    "If we look at the subset of data for stocks that are Dead Cat stocks, the accuracy is a little different."
   ]
  },
  {
   "cell_type": "code",
   "execution_count": 91,
   "metadata": {
    "collapsed": false
   },
   "outputs": [
    {
     "name": "stdout",
     "output_type": "stream",
     "text": [
      "True     0.73913\n",
      "False    0.26087\n",
      "Name: Check, dtype: float64\n"
     ]
    }
   ],
   "source": [
    "# Test accuracy on subset where stocks are Dead Cats\n",
    "subset = df_test[df_test['Is_Dead_Cat']==1]\n",
    "print subset['Check'].value_counts(True)"
   ]
  },
  {
   "cell_type": "markdown",
   "metadata": {},
   "source": [
    "The accuracy is slightly better for Dead Cat stocks but this may just be due to their smaller sample size. The overall probablity predicted by the model is pretty low but in general if we look at stock not classified as dead cat bounce stocks the probability is < 0.1."
   ]
  },
  {
   "cell_type": "markdown",
   "metadata": {},
   "source": [
    "#### Confusion Matrix"
   ]
  },
  {
   "cell_type": "code",
   "execution_count": 92,
   "metadata": {
    "collapsed": false
   },
   "outputs": [
    {
     "name": "stdout",
     "output_type": "stream",
     "text": [
      "True Negatives: 69\n",
      "False Positives: 35\n",
      "False Negatives: 6\n",
      "True Positives: 17\n"
     ]
    }
   ],
   "source": [
    "y_true = df_test.Is_Dead_Cat\n",
    "y_pred = df_test.Log_Prediction\n",
    "matrix = confusion_matrix(y_true, y_pred)\n",
    "\n",
    "print \"True Negatives: %s\" % (matrix[0][0])\n",
    "print \"False Positives: %s\" % (matrix[0][1])\n",
    "print \"False Negatives: %s\" % (matrix[1][0])\n",
    "print \"True Positives: %s\" % (matrix[1][1])"
   ]
  },
  {
   "cell_type": "code",
   "execution_count": 106,
   "metadata": {
    "collapsed": false
   },
   "outputs": [
    {
     "data": {
      "text/html": [
       "<iframe id=\"igraph\" scrolling=\"no\" style=\"border:none;\" seamless=\"seamless\" src=\"https://plot.ly/~kaushik.316/10.embed\" height=\"525px\" width=\"100%\"></iframe>"
      ],
      "text/plain": [
       "<plotly.tools.PlotlyDisplay object>"
      ]
     },
     "execution_count": 106,
     "metadata": {},
     "output_type": "execute_result"
    }
   ],
   "source": [
    "matrixplot = [\n",
    "    go.Heatmap(\n",
    "        z= [[6,17],[69,35]],\n",
    "        x=['Predicted No', 'Predicted Yes'],\n",
    "        y=['Actual Yes', 'Actual No'],\n",
    "    )\n",
    "]\n",
    "py.iplot(matrixplot, filename='labelled-heatmap')\n"
   ]
  },
  {
   "cell_type": "markdown",
   "metadata": {},
   "source": [
    "### Logistic Regression Model (Scikit Learn)"
   ]
  },
  {
   "cell_type": "code",
   "execution_count": 53,
   "metadata": {
    "collapsed": false
   },
   "outputs": [],
   "source": [
    "x2_cols = ['Chg_from_Hi','Chg_from_Lo','Chg_from_50davg','Short_Ratio']\n",
    "x2_train = df_train[x2_cols]\n",
    "y2_train = df_train['Is_Dead_Cat']"
   ]
  },
  {
   "cell_type": "code",
   "execution_count": 54,
   "metadata": {
    "collapsed": false
   },
   "outputs": [],
   "source": [
    "logModel = linear_model.LogisticRegression()\n",
    "DCB_model = logModel.fit(x2_train, y2_train)\n"
   ]
  },
  {
   "cell_type": "code",
   "execution_count": 55,
   "metadata": {
    "collapsed": false
   },
   "outputs": [
    {
     "name": "stdout",
     "output_type": "stream",
     "text": [
      "0.818897637795\n"
     ]
    }
   ],
   "source": [
    "print logModel.score(df_test[x2_cols],df_test['Is_Dead_Cat'])"
   ]
  },
  {
   "cell_type": "markdown",
   "metadata": {},
   "source": [
    "### Decision Tree Model"
   ]
  },
  {
   "cell_type": "code",
   "execution_count": 56,
   "metadata": {
    "collapsed": true
   },
   "outputs": [],
   "source": [
    "treeModel = DecisionTreeClassifier(max_depth = 4, criterion=\"entropy\")\n",
    "tree_cols = ['Chg_from_Hi','Chg_from_Lo','Chg_from_50davg','Short_Ratio']"
   ]
  },
  {
   "cell_type": "code",
   "execution_count": 57,
   "metadata": {
    "collapsed": false
   },
   "outputs": [
    {
     "data": {
      "text/plain": [
       "DecisionTreeClassifier(class_weight=None, criterion='entropy', max_depth=4,\n",
       "            max_features=None, max_leaf_nodes=None, min_samples_leaf=1,\n",
       "            min_samples_split=2, min_weight_fraction_leaf=0.0,\n",
       "            presort=False, random_state=None, splitter='best')"
      ]
     },
     "execution_count": 57,
     "metadata": {},
     "output_type": "execute_result"
    }
   ],
   "source": [
    "treedf_train = df_train.copy()\n",
    "X_tree = treedf_train[tree_cols]\n",
    "Y_tree = treedf_train['Is_Dead_Cat']\n",
    "\n",
    "treeModel.fit(X_tree, Y_tree)"
   ]
  },
  {
   "cell_type": "code",
   "execution_count": 58,
   "metadata": {
    "collapsed": true
   },
   "outputs": [],
   "source": [
    "def visualize_tree(model):\n",
    "    dotfile = open(\"tree.dot\", 'w')\n",
    "    export_graphviz(model, out_file = dotfile, feature_names = X_tree.columns)\n",
    "    dotfile.close()\n",
    "    system(\"dot -Tpng tree.dot -o tree.png\")"
   ]
  },
  {
   "cell_type": "markdown",
   "metadata": {},
   "source": [
    "<img src=\"Tree.png\">"
   ]
  },
  {
   "cell_type": "code",
   "execution_count": 59,
   "metadata": {
    "collapsed": false
   },
   "outputs": [
    {
     "data": {
      "text/html": [
       "<div>\n",
       "<table border=\"1\" class=\"dataframe\">\n",
       "  <thead>\n",
       "    <tr style=\"text-align: right;\">\n",
       "      <th></th>\n",
       "      <th>Ticker</th>\n",
       "      <th>Chg_from_Hi</th>\n",
       "      <th>Chg_from_Lo</th>\n",
       "      <th>Chg_from_50davg</th>\n",
       "      <th>Short_Ratio</th>\n",
       "      <th>Is_Dead_Cat</th>\n",
       "    </tr>\n",
       "  </thead>\n",
       "  <tbody>\n",
       "    <tr>\n",
       "      <th>0</th>\n",
       "      <td>GERN</td>\n",
       "      <td>-11.520737</td>\n",
       "      <td>107.567568</td>\n",
       "      <td>-2.431942</td>\n",
       "      <td>11.027120</td>\n",
       "      <td>1</td>\n",
       "    </tr>\n",
       "    <tr>\n",
       "      <th>1</th>\n",
       "      <td>SM</td>\n",
       "      <td>-76.817489</td>\n",
       "      <td>36.936937</td>\n",
       "      <td>-46.337051</td>\n",
       "      <td>6.238982</td>\n",
       "      <td>1</td>\n",
       "    </tr>\n",
       "    <tr>\n",
       "      <th>2</th>\n",
       "      <td>GLNG</td>\n",
       "      <td>-29.862069</td>\n",
       "      <td>79.301834</td>\n",
       "      <td>14.257349</td>\n",
       "      <td>5.214547</td>\n",
       "      <td>1</td>\n",
       "    </tr>\n",
       "    <tr>\n",
       "      <th>3</th>\n",
       "      <td>CLF</td>\n",
       "      <td>-72.387239</td>\n",
       "      <td>16.744186</td>\n",
       "      <td>-8.482774</td>\n",
       "      <td>8.084908</td>\n",
       "      <td>1</td>\n",
       "    </tr>\n",
       "    <tr>\n",
       "      <th>4</th>\n",
       "      <td>SAIA</td>\n",
       "      <td>-14.505572</td>\n",
       "      <td>60.564784</td>\n",
       "      <td>-9.375586</td>\n",
       "      <td>2.542879</td>\n",
       "      <td>1</td>\n",
       "    </tr>\n",
       "  </tbody>\n",
       "</table>\n",
       "</div>"
      ],
      "text/plain": [
       "  Ticker  Chg_from_Hi  Chg_from_Lo  Chg_from_50davg  Short_Ratio  Is_Dead_Cat\n",
       "0   GERN   -11.520737   107.567568        -2.431942    11.027120            1\n",
       "1     SM   -76.817489    36.936937       -46.337051     6.238982            1\n",
       "2   GLNG   -29.862069    79.301834        14.257349     5.214547            1\n",
       "3    CLF   -72.387239    16.744186        -8.482774     8.084908            1\n",
       "4   SAIA   -14.505572    60.564784        -9.375586     2.542879            1"
      ]
     },
     "execution_count": 59,
     "metadata": {},
     "output_type": "execute_result"
    }
   ],
   "source": [
    "# Get the test dataset but remove the columns attached by the log regression model\n",
    "treedf_test = df_test.copy()\n",
    "treedf_test = treedf_test.drop(['Intercept','DCB_Prob','Log_Prediction','Check'], axis=1)\n",
    "X_treetest = treedf_test[tree_cols]\n",
    "treedf_test.head()"
   ]
  },
  {
   "cell_type": "code",
   "execution_count": 60,
   "metadata": {
    "collapsed": false
   },
   "outputs": [
    {
     "name": "stdout",
     "output_type": "stream",
     "text": [
      "True     0.826772\n",
      "False    0.173228\n",
      "Name: Check, dtype: float64\n"
     ]
    }
   ],
   "source": [
    "treedf_test['Tree_Prediction'] = treeModel.predict(X_treetest)\n",
    "treedf_test['Check'] = treedf_test.Tree_Prediction == treedf_test.Is_Dead_Cat\n",
    "print treedf_test['Check'].value_counts(True)"
   ]
  },
  {
   "cell_type": "code",
   "execution_count": 61,
   "metadata": {
    "collapsed": false
   },
   "outputs": [
    {
     "data": {
      "text/html": [
       "<div>\n",
       "<table border=\"1\" class=\"dataframe\">\n",
       "  <thead>\n",
       "    <tr style=\"text-align: right;\">\n",
       "      <th></th>\n",
       "      <th>Ticker</th>\n",
       "      <th>Chg_from_Hi</th>\n",
       "      <th>Chg_from_Lo</th>\n",
       "      <th>Chg_from_50davg</th>\n",
       "      <th>Short_Ratio</th>\n",
       "      <th>Is_Dead_Cat</th>\n",
       "      <th>Tree_Prediction</th>\n",
       "      <th>Check</th>\n",
       "    </tr>\n",
       "  </thead>\n",
       "  <tbody>\n",
       "    <tr>\n",
       "      <th>0</th>\n",
       "      <td>GERN</td>\n",
       "      <td>-11.520737</td>\n",
       "      <td>107.567568</td>\n",
       "      <td>-2.431942</td>\n",
       "      <td>11.027120</td>\n",
       "      <td>1</td>\n",
       "      <td>0</td>\n",
       "      <td>False</td>\n",
       "    </tr>\n",
       "    <tr>\n",
       "      <th>1</th>\n",
       "      <td>SM</td>\n",
       "      <td>-76.817489</td>\n",
       "      <td>36.936937</td>\n",
       "      <td>-46.337051</td>\n",
       "      <td>6.238982</td>\n",
       "      <td>1</td>\n",
       "      <td>1</td>\n",
       "      <td>True</td>\n",
       "    </tr>\n",
       "    <tr>\n",
       "      <th>2</th>\n",
       "      <td>GLNG</td>\n",
       "      <td>-29.862069</td>\n",
       "      <td>79.301834</td>\n",
       "      <td>14.257349</td>\n",
       "      <td>5.214547</td>\n",
       "      <td>1</td>\n",
       "      <td>0</td>\n",
       "      <td>False</td>\n",
       "    </tr>\n",
       "    <tr>\n",
       "      <th>3</th>\n",
       "      <td>CLF</td>\n",
       "      <td>-72.387239</td>\n",
       "      <td>16.744186</td>\n",
       "      <td>-8.482774</td>\n",
       "      <td>8.084908</td>\n",
       "      <td>1</td>\n",
       "      <td>1</td>\n",
       "      <td>True</td>\n",
       "    </tr>\n",
       "    <tr>\n",
       "      <th>4</th>\n",
       "      <td>SAIA</td>\n",
       "      <td>-14.505572</td>\n",
       "      <td>60.564784</td>\n",
       "      <td>-9.375586</td>\n",
       "      <td>2.542879</td>\n",
       "      <td>1</td>\n",
       "      <td>1</td>\n",
       "      <td>True</td>\n",
       "    </tr>\n",
       "    <tr>\n",
       "      <th>5</th>\n",
       "      <td>SN</td>\n",
       "      <td>-18.683652</td>\n",
       "      <td>234.497817</td>\n",
       "      <td>-6.188453</td>\n",
       "      <td>3.557872</td>\n",
       "      <td>1</td>\n",
       "      <td>0</td>\n",
       "      <td>False</td>\n",
       "    </tr>\n",
       "    <tr>\n",
       "      <th>6</th>\n",
       "      <td>HOS</td>\n",
       "      <td>-54.241262</td>\n",
       "      <td>9.933436</td>\n",
       "      <td>-12.974100</td>\n",
       "      <td>6.098567</td>\n",
       "      <td>1</td>\n",
       "      <td>1</td>\n",
       "      <td>True</td>\n",
       "    </tr>\n",
       "    <tr>\n",
       "      <th>7</th>\n",
       "      <td>OPK</td>\n",
       "      <td>-1.796407</td>\n",
       "      <td>84.269663</td>\n",
       "      <td>11.994797</td>\n",
       "      <td>12.536319</td>\n",
       "      <td>1</td>\n",
       "      <td>0</td>\n",
       "      <td>False</td>\n",
       "    </tr>\n",
       "    <tr>\n",
       "      <th>8</th>\n",
       "      <td>CCOI</td>\n",
       "      <td>-11.080471</td>\n",
       "      <td>19.186828</td>\n",
       "      <td>0.784575</td>\n",
       "      <td>7.103883</td>\n",
       "      <td>1</td>\n",
       "      <td>0</td>\n",
       "      <td>False</td>\n",
       "    </tr>\n",
       "    <tr>\n",
       "      <th>9</th>\n",
       "      <td>CUDA</td>\n",
       "      <td>0.000000</td>\n",
       "      <td>91.607811</td>\n",
       "      <td>15.939442</td>\n",
       "      <td>2.219147</td>\n",
       "      <td>1</td>\n",
       "      <td>0</td>\n",
       "      <td>False</td>\n",
       "    </tr>\n",
       "  </tbody>\n",
       "</table>\n",
       "</div>"
      ],
      "text/plain": [
       "  Ticker  Chg_from_Hi  Chg_from_Lo  Chg_from_50davg  Short_Ratio  Is_Dead_Cat  \\\n",
       "0   GERN   -11.520737   107.567568        -2.431942    11.027120            1   \n",
       "1     SM   -76.817489    36.936937       -46.337051     6.238982            1   \n",
       "2   GLNG   -29.862069    79.301834        14.257349     5.214547            1   \n",
       "3    CLF   -72.387239    16.744186        -8.482774     8.084908            1   \n",
       "4   SAIA   -14.505572    60.564784        -9.375586     2.542879            1   \n",
       "5     SN   -18.683652   234.497817        -6.188453     3.557872            1   \n",
       "6    HOS   -54.241262     9.933436       -12.974100     6.098567            1   \n",
       "7    OPK    -1.796407    84.269663        11.994797    12.536319            1   \n",
       "8   CCOI   -11.080471    19.186828         0.784575     7.103883            1   \n",
       "9   CUDA     0.000000    91.607811        15.939442     2.219147            1   \n",
       "\n",
       "   Tree_Prediction  Check  \n",
       "0                0  False  \n",
       "1                1   True  \n",
       "2                0  False  \n",
       "3                1   True  \n",
       "4                1   True  \n",
       "5                0  False  \n",
       "6                1   True  \n",
       "7                0  False  \n",
       "8                0  False  \n",
       "9                0  False  "
      ]
     },
     "execution_count": 61,
     "metadata": {},
     "output_type": "execute_result"
    }
   ],
   "source": [
    "treedf_test.head(10)"
   ]
  },
  {
   "cell_type": "markdown",
   "metadata": {},
   "source": [
    "As shown above, the decision tree model does not accurately predict Dead Cat Bounces without adjusting for the natural probability of a Dead Cat Bounce occuring, which is quite low. This is verified when looking at the accuracy for only the Dead Cat Bounce stocks"
   ]
  },
  {
   "cell_type": "code",
   "execution_count": 77,
   "metadata": {
    "collapsed": false
   },
   "outputs": [
    {
     "name": "stdout",
     "output_type": "stream",
     "text": [
      "False    0.695652\n",
      "True     0.304348\n",
      "Name: Check, dtype: float64\n"
     ]
    }
   ],
   "source": [
    "subset2 = treedf_test[treedf_test['Is_Dead_Cat']==1]\n",
    "print subset2['Check'].value_counts(True)"
   ]
  },
  {
   "cell_type": "code",
   "execution_count": null,
   "metadata": {
    "collapsed": true
   },
   "outputs": [],
   "source": []
  }
 ],
 "metadata": {
  "kernelspec": {
   "display_name": "Python 2",
   "language": "python",
   "name": "python2"
  },
  "language_info": {
   "codemirror_mode": {
    "name": "ipython",
    "version": 2
   },
   "file_extension": ".py",
   "mimetype": "text/x-python",
   "name": "python",
   "nbconvert_exporter": "python",
   "pygments_lexer": "ipython2",
   "version": "2.7.11"
  }
 },
 "nbformat": 4,
 "nbformat_minor": 0
}
